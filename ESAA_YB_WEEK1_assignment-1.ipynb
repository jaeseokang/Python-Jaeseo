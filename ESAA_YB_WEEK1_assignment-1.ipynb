{
 "cells": [
  {
   "cell_type": "markdown",
   "id": "bf79c78b",
   "metadata": {
    "id": "bf79c78b"
   },
   "source": [
    "# Numpy exercises\n",
    "\n",
    "This is a collection of exercises that have been collected in the numpy mailing list, on stack overflow\n",
    "and in the numpy documentation. The goal of this collection is to offer a quick reference for both old\n",
    "and new users but also to provide a set of exercises for those who teach.\n",
    "\n",
    "\n",
    "If you find an error or think you've a better way to solve some of them, feel\n",
    "free to open an issue at <https://github.com/rougier/numpy-100>."
   ]
  },
  {
   "cell_type": "markdown",
   "id": "8536e059",
   "metadata": {
    "id": "8536e059"
   },
   "source": [
    "File automatically generated. See the documentation to update questions/answers/hints programmatically."
   ]
  },
  {
   "cell_type": "markdown",
   "id": "017db353",
   "metadata": {
    "id": "017db353"
   },
   "source": [
    "#### 1. Import the numpy package under the name `np` (★☆☆)"
   ]
  },
  {
   "cell_type": "code",
   "execution_count": 4,
   "id": "68182a76",
   "metadata": {
    "id": "68182a76"
   },
   "outputs": [],
   "source": [
    "import numpy as np"
   ]
  },
  {
   "cell_type": "markdown",
   "id": "46950f4f",
   "metadata": {
    "id": "46950f4f"
   },
   "source": [
    "#### 2. Print the numpy version and the configuration (★☆☆)"
   ]
  },
  {
   "cell_type": "code",
   "execution_count": 38,
   "id": "T2NNljuPNL8z",
   "metadata": {
    "id": "T2NNljuPNL8z"
   },
   "outputs": [
    {
     "name": "stdout",
     "output_type": "stream",
     "text": [
      "Numpy Version: 1.26.4\n",
      "Build Dependencies:\n",
      "  blas:\n",
      "    detection method: pkgconfig\n",
      "    found: true\n",
      "    include directory: /opt/anaconda3/include\n",
      "    lib directory: /opt/anaconda3/lib\n",
      "    name: openblas\n",
      "    openblas configuration: USE_64BITINT= DYNAMIC_ARCH=1 DYNAMIC_OLDER= NO_CBLAS=\n",
      "      NO_LAPACK=0 NO_LAPACKE= NO_AFFINITY=1 USE_OPENMP=0 VORTEX MAX_THREADS=128\n",
      "    pc file directory: /opt/anaconda3/lib/pkgconfig\n",
      "    version: 0.3.21\n",
      "  lapack:\n",
      "    detection method: internal\n",
      "    found: true\n",
      "    include directory: unknown\n",
      "    lib directory: unknown\n",
      "    name: dep4347739648\n",
      "    openblas configuration: unknown\n",
      "    pc file directory: unknown\n",
      "    version: 1.26.4\n",
      "Compilers:\n",
      "  c:\n",
      "    args: -ftree-vectorize, -fPIC, -fPIE, -fstack-protector-strong, -O2, -pipe, -isystem,\n",
      "      /opt/anaconda3/include, -fdebug-prefix-map=/var/folders/k1/30mswbxs7r1g6zwn8y4fyt500000gp/T/abs_a51i_mbs7m/croot/numpy_and_numpy_base_1708638620867/work=/usr/local/src/conda/numpy-base-1.26.4,\n",
      "      -fdebug-prefix-map=/opt/anaconda3=/usr/local/src/conda-prefix, -D_FORTIFY_SOURCE=2,\n",
      "      -isystem, /opt/anaconda3/include, -mmacosx-version-min=11.1\n",
      "    commands: arm64-apple-darwin20.0.0-clang\n",
      "    linker: ld64\n",
      "    linker args: -Wl,-pie, -Wl,-headerpad_max_install_names, -Wl,-dead_strip_dylibs,\n",
      "      -Wl,-rpath,/opt/anaconda3/lib, -L/opt/anaconda3/lib, -ftree-vectorize, -fPIC,\n",
      "      -fPIE, -fstack-protector-strong, -O2, -pipe, -isystem, /opt/anaconda3/include,\n",
      "      -fdebug-prefix-map=/var/folders/k1/30mswbxs7r1g6zwn8y4fyt500000gp/T/abs_a51i_mbs7m/croot/numpy_and_numpy_base_1708638620867/work=/usr/local/src/conda/numpy-base-1.26.4,\n",
      "      -fdebug-prefix-map=/opt/anaconda3=/usr/local/src/conda-prefix, -D_FORTIFY_SOURCE=2,\n",
      "      -isystem, /opt/anaconda3/include, -mmacosx-version-min=11.1\n",
      "    name: clang\n",
      "    version: 14.0.6\n",
      "  c++:\n",
      "    args: -ftree-vectorize, -fPIC, -fPIE, -fstack-protector-strong, -O2, -pipe, -stdlib=libc++,\n",
      "      -fvisibility-inlines-hidden, -fmessage-length=0, -isystem, /opt/anaconda3/include,\n",
      "      -fdebug-prefix-map=/var/folders/k1/30mswbxs7r1g6zwn8y4fyt500000gp/T/abs_a51i_mbs7m/croot/numpy_and_numpy_base_1708638620867/work=/usr/local/src/conda/numpy-base-1.26.4,\n",
      "      -fdebug-prefix-map=/opt/anaconda3=/usr/local/src/conda-prefix, -D_FORTIFY_SOURCE=2,\n",
      "      -isystem, /opt/anaconda3/include, -mmacosx-version-min=11.1\n",
      "    commands: arm64-apple-darwin20.0.0-clang++\n",
      "    linker: ld64\n",
      "    linker args: -Wl,-pie, -Wl,-headerpad_max_install_names, -Wl,-dead_strip_dylibs,\n",
      "      -Wl,-rpath,/opt/anaconda3/lib, -L/opt/anaconda3/lib, -ftree-vectorize, -fPIC,\n",
      "      -fPIE, -fstack-protector-strong, -O2, -pipe, -stdlib=libc++, -fvisibility-inlines-hidden,\n",
      "      -fmessage-length=0, -isystem, /opt/anaconda3/include, -fdebug-prefix-map=/var/folders/k1/30mswbxs7r1g6zwn8y4fyt500000gp/T/abs_a51i_mbs7m/croot/numpy_and_numpy_base_1708638620867/work=/usr/local/src/conda/numpy-base-1.26.4,\n",
      "      -fdebug-prefix-map=/opt/anaconda3=/usr/local/src/conda-prefix, -D_FORTIFY_SOURCE=2,\n",
      "      -isystem, /opt/anaconda3/include, -mmacosx-version-min=11.1\n",
      "    name: clang\n",
      "    version: 14.0.6\n",
      "  cython:\n",
      "    commands: cython\n",
      "    linker: cython\n",
      "    name: cython\n",
      "    version: 3.0.8\n",
      "Machine Information:\n",
      "  build:\n",
      "    cpu: aarch64\n",
      "    endian: little\n",
      "    family: aarch64\n",
      "    system: darwin\n",
      "  host:\n",
      "    cpu: aarch64\n",
      "    endian: little\n",
      "    family: aarch64\n",
      "    system: darwin\n",
      "Python Information:\n",
      "  path: /opt/anaconda3/bin/python\n",
      "  version: '3.12'\n",
      "SIMD Extensions:\n",
      "  baseline:\n",
      "  - NEON\n",
      "  - NEON_FP16\n",
      "  - NEON_VFPV4\n",
      "  - ASIMD\n",
      "  found:\n",
      "  - ASIMDHP\n",
      "  not found:\n",
      "  - ASIMDFHM\n",
      "\n"
     ]
    }
   ],
   "source": [
    "print('Numpy Version:', np.__version__)\n",
    "np.show_config()"
   ]
  },
  {
   "cell_type": "markdown",
   "id": "e3c20b3d",
   "metadata": {
    "id": "e3c20b3d"
   },
   "source": [
    "#### 3. Create a null vector of size 10 (★☆☆)"
   ]
  },
  {
   "cell_type": "code",
   "execution_count": 11,
   "id": "8a758bcf",
   "metadata": {
    "id": "8a758bcf"
   },
   "outputs": [
    {
     "name": "stdout",
     "output_type": "stream",
     "text": [
      "[0. 0. 0. 0. 0. 0. 0. 0. 0. 0.]\n"
     ]
    }
   ],
   "source": [
    "zero = np.zeros(10)\n",
    "print(zero)"
   ]
  },
  {
   "cell_type": "markdown",
   "id": "b15a879f",
   "metadata": {
    "id": "b15a879f"
   },
   "source": [
    "#### 4. How to find the memory size of any array (★☆☆)"
   ]
  },
  {
   "cell_type": "code",
   "execution_count": 13,
   "id": "1cc3cbc5",
   "metadata": {
    "id": "1cc3cbc5"
   },
   "outputs": [
    {
     "name": "stdout",
     "output_type": "stream",
     "text": [
      "memory size of the array: 40 bytes\n"
     ]
    }
   ],
   "source": [
    "array1 = np.array([1,2,3,4,5])\n",
    "memory_size = array1.nbytes\n",
    "print(\"memory size of the array:\", memory_size, \"bytes\")"
   ]
  },
  {
   "cell_type": "markdown",
   "id": "0b16cd77",
   "metadata": {
    "id": "0b16cd77"
   },
   "source": [
    "#### 5. Create a null vector of size 10 but the fifth value which is 1 (★☆☆)"
   ]
  },
  {
   "cell_type": "code",
   "execution_count": 15,
   "id": "4d9b5975",
   "metadata": {
    "id": "4d9b5975"
   },
   "outputs": [
    {
     "name": "stdout",
     "output_type": "stream",
     "text": [
      "[0. 0. 0. 0. 1. 0. 0. 0. 0. 0.]\n"
     ]
    }
   ],
   "source": [
    "zero = np.zeros(10)\n",
    "zero[4] = 1\n",
    "print(zero)"
   ]
  },
  {
   "cell_type": "markdown",
   "id": "782d4c77",
   "metadata": {
    "id": "782d4c77"
   },
   "source": [
    "#### 6. Create a vector with values ranging from 10 to 49 (★☆☆)"
   ]
  },
  {
   "cell_type": "code",
   "execution_count": 25,
   "id": "5dbe1a08",
   "metadata": {
    "id": "5dbe1a08"
   },
   "outputs": [
    {
     "name": "stdout",
     "output_type": "stream",
     "text": [
      "[10 11 12 13 14 15 16 17 18 19 20 21 22 23 24 25 26 27 28 29 30 31 32 33\n",
      " 34 35 36 37 38 39 40 41 42 43 44 45 46 47 48 49]\n"
     ]
    }
   ],
   "source": [
    "array = np.arange(10,50)\n",
    "print(array)"
   ]
  },
  {
   "cell_type": "markdown",
   "id": "48d48f01",
   "metadata": {
    "id": "48d48f01"
   },
   "source": [
    "#### 7. Reverse a vector (first element becomes last) (★☆☆)"
   ]
  },
  {
   "cell_type": "code",
   "execution_count": 42,
   "id": "3ed233e7",
   "metadata": {
    "id": "3ed233e7"
   },
   "outputs": [
    {
     "name": "stdout",
     "output_type": "stream",
     "text": [
      "내림차순으로 정렬:\n",
      " [49 48 47 46 45 44 43 42 41 40 39 38 37 36 35 34 33 32 31 30 29 28 27 26\n",
      " 25 24 23 22 21 20 19 18 17 16 15 14 13 12 11 10]\n"
     ]
    }
   ],
   "source": [
    "sort_array_desc = np.sort(array)[::-1]\n",
    "print(\"내림차순으로 정렬:\\n\", sort_array_desc)"
   ]
  },
  {
   "cell_type": "markdown",
   "id": "4fa39382",
   "metadata": {
    "id": "4fa39382"
   },
   "source": [
    "#### 8. Create a 3x3 matrix with values ranging from 0 to 8 (★☆☆)"
   ]
  },
  {
   "cell_type": "code",
   "execution_count": 34,
   "id": "c97757ec",
   "metadata": {
    "id": "c97757ec"
   },
   "outputs": [
    {
     "name": "stdout",
     "output_type": "stream",
     "text": [
      "array2d:\n",
      " [[0 1 2]\n",
      " [3 4 5]\n",
      " [6 7 8]]\n"
     ]
    }
   ],
   "source": [
    "array1d = np.arange(start=0, stop=9)\n",
    "array2d = array1d.reshape(3,3)\n",
    "print('array2d:\\n', array2d)"
   ]
  },
  {
   "cell_type": "markdown",
   "id": "da64551a",
   "metadata": {
    "id": "da64551a"
   },
   "source": [
    "#### 9. Find indices of non-zero elements from [1,2,0,0,4,0] (★☆☆)"
   ]
  },
  {
   "cell_type": "code",
   "execution_count": 44,
   "id": "327f7adb",
   "metadata": {
    "id": "327f7adb"
   },
   "outputs": [
    {
     "name": "stdout",
     "output_type": "stream",
     "text": [
      "[1 2 4]\n"
     ]
    }
   ],
   "source": [
    "array = np.array([1,2,0,0,4,0])\n",
    "non_zero_indices = array[array > 0]\n",
    "print(non_zero_indices)"
   ]
  },
  {
   "cell_type": "markdown",
   "id": "f89d9c9e",
   "metadata": {
    "id": "f89d9c9e"
   },
   "source": [
    "#### 10. Create a 3x3 identity matrix (★☆☆)\n",
    "Hint : identity & eye, try to use 'help' to learn how to use two functions of numpy"
   ]
  },
  {
   "cell_type": "code",
   "execution_count": 48,
   "id": "fQFB1sJ8Q8cj",
   "metadata": {
    "id": "fQFB1sJ8Q8cj"
   },
   "outputs": [
    {
     "name": "stdout",
     "output_type": "stream",
     "text": [
      "[[1. 0. 0.]\n",
      " [0. 1. 0.]\n",
      " [0. 0. 1.]]\n"
     ]
    }
   ],
   "source": [
    "identity_matrix = np.identity(3)\n",
    "print(identity_matrix)"
   ]
  },
  {
   "cell_type": "markdown",
   "id": "7e44c6fa",
   "metadata": {
    "id": "7e44c6fa"
   },
   "source": [
    "#### 11. Create a 3x3x3 array with random values (★☆☆)\n",
    "Hint : numpy.random.random"
   ]
  },
  {
   "cell_type": "code",
   "execution_count": 50,
   "id": "1cb3dddf",
   "metadata": {
    "id": "1cb3dddf"
   },
   "outputs": [
    {
     "name": "stdout",
     "output_type": "stream",
     "text": [
      "[[[0.60654223 0.10693114 0.20164886]\n",
      "  [0.09937325 0.52638864 0.72165988]\n",
      "  [0.39726168 0.32533445 0.80038555]]\n",
      "\n",
      " [[0.7884383  0.95720606 0.85742224]\n",
      "  [0.74996001 0.87574347 0.05498751]\n",
      "  [0.58180374 0.60104143 0.02390323]]\n",
      "\n",
      " [[0.27467149 0.19951261 0.52589175]\n",
      "  [0.20351383 0.33077672 0.00910028]\n",
      "  [0.91768792 0.05884019 0.30100733]]]\n"
     ]
    }
   ],
   "source": [
    "array = np.random.random((3,3,3))\n",
    "print(array)"
   ]
  },
  {
   "cell_type": "markdown",
   "id": "13c5928c",
   "metadata": {
    "id": "13c5928c"
   },
   "source": [
    "#### 12. Create a 10x10 array with random values and find the **min**imum and **max**imum values (★☆☆)"
   ]
  },
  {
   "cell_type": "code",
   "execution_count": 54,
   "id": "911c9b93",
   "metadata": {
    "id": "911c9b93"
   },
   "outputs": [
    {
     "name": "stdout",
     "output_type": "stream",
     "text": [
      "[[0.90623969 0.94797279 0.34874277 0.1482107  0.45247439 0.62915751\n",
      "  0.15163053 0.12814023 0.30470927 0.07850695]\n",
      " [0.02494697 0.9886128  0.57743703 0.60855996 0.31340938 0.95845625\n",
      "  0.54852424 0.2079923  0.83778704 0.97841092]\n",
      " [0.29734673 0.42115319 0.41768321 0.97089129 0.19022215 0.82975459\n",
      "  0.93684472 0.87964089 0.12783016 0.24835052]\n",
      " [0.77438805 0.25057956 0.07891545 0.85377937 0.24578527 0.14018645\n",
      "  0.64462146 0.77550531 0.29319536 0.34078683]\n",
      " [0.30938916 0.19699374 0.473414   0.82546128 0.95568937 0.24793517\n",
      "  0.9774568  0.12120288 0.16797512 0.55128185]\n",
      " [0.35881294 0.74165176 0.85645288 0.81360007 0.68102714 0.88965358\n",
      "  0.34913089 0.0496484  0.50618886 0.47266089]\n",
      " [0.95246962 0.1154953  0.59606097 0.1936773  0.30257594 0.33925187\n",
      "  0.35254554 0.22750955 0.48674354 0.82855152]\n",
      " [0.66209791 0.90679824 0.27004347 0.43997927 0.53716644 0.88528726\n",
      "  0.53760389 0.40234828 0.5978898  0.84178374]\n",
      " [0.17143477 0.6821269  0.26435876 0.62378164 0.04110644 0.53049138\n",
      "  0.74357803 0.45067175 0.91217182 0.36014012]\n",
      " [0.10702811 0.16394271 0.69362861 0.90932713 0.81995374 0.55090625\n",
      "  0.44668931 0.58979324 0.00275734 0.56296987]]\n",
      "min_value =  0.0027573370036652056\n",
      "max_value =  0.9886128035531295\n"
     ]
    }
   ],
   "source": [
    "array = np.random.random((10,10))\n",
    "min_value = np.min(array)\n",
    "max_value = np.max(array)\n",
    "print(array)\n",
    "print(\"min_value = \", min_value)\n",
    "print(\"max_value = \", max_value)"
   ]
  },
  {
   "cell_type": "markdown",
   "id": "3fa2e461",
   "metadata": {
    "id": "3fa2e461"
   },
   "source": [
    "#### 13. Create a random vector of size 30 and find the **mean** value (★☆☆)"
   ]
  },
  {
   "cell_type": "code",
   "execution_count": 66,
   "id": "323eb38a",
   "metadata": {
    "id": "323eb38a"
   },
   "outputs": [
    {
     "name": "stdout",
     "output_type": "stream",
     "text": [
      "[0.47294573 0.51962798 0.87000274 0.19362443 0.88862033 0.84055055\n",
      " 0.94565252 0.93277312 0.44352246 0.62696095 0.93202617 0.48951874\n",
      " 0.48327814 0.36133255 0.55532749 0.29180371 0.47867284 0.96040121\n",
      " 0.08926933 0.66318449 0.75444375 0.26864219 0.39548039 0.77946031\n",
      " 0.46303878 0.01992977 0.47948401 0.27779995 0.65840489 0.9297305 ]\n",
      "mean_value = 0.5688503339786112\n"
     ]
    }
   ],
   "source": [
    "array = np.random.random(30)\n",
    "mean_value = np.mean(array)\n",
    "print(array)\n",
    "print(\"mean_value =\", mean_value)"
   ]
  },
  {
   "cell_type": "markdown",
   "id": "73f7a549",
   "metadata": {
    "id": "73f7a549"
   },
   "source": [
    "#### 14. Create a 2d array with 1 on the border and 0 inside (★☆☆)"
   ]
  },
  {
   "cell_type": "code",
   "execution_count": 68,
   "id": "NF8T5OETM32i",
   "metadata": {
    "id": "NF8T5OETM32i"
   },
   "outputs": [
    {
     "name": "stdout",
     "output_type": "stream",
     "text": [
      "[[1. 1. 1. 1. 1.]\n",
      " [1. 0. 0. 0. 1.]\n",
      " [1. 0. 0. 0. 1.]\n",
      " [1. 0. 0. 0. 1.]\n",
      " [1. 1. 1. 1. 1.]]\n"
     ]
    }
   ],
   "source": [
    "array2d = np.zeros((5,5))\n",
    "\n",
    "array2d[0, :] = 1\n",
    "array2d[-1, :] = 1\n",
    "array2d[:, 0] = 1\n",
    "array2d[:, -1] = 1\n",
    "\n",
    "print(array2d)"
   ]
  },
  {
   "cell_type": "markdown",
   "id": "d6ad1a9f",
   "metadata": {
    "id": "d6ad1a9f"
   },
   "source": [
    "#### 15. What is the result of the following expression? (★☆☆)\n",
    "```python\n",
    "0 * np.nan\n",
    "np.nan == np.nan\n",
    "np.inf > np.nan\n",
    "np.nan - np.nan\n",
    "np.nan in set([np.nan])\n",
    "0.3 == 3 * 0.1\n",
    "```"
   ]
  },
  {
   "cell_type": "markdown",
   "id": "D1R9AmCGQrgn",
   "metadata": {
    "id": "D1R9AmCGQrgn"
   },
   "source": [
    "nan, False, False, nan, True, False"
   ]
  },
  {
   "cell_type": "markdown",
   "id": "e3a7ba7f",
   "metadata": {
    "id": "e3a7ba7f"
   },
   "source": [
    "#### 16. Create a 5x5 matrix with values 1,2,3,4 just below the **diag**onal (★☆☆)"
   ]
  },
  {
   "cell_type": "code",
   "execution_count": 72,
   "id": "01d8e257",
   "metadata": {
    "id": "01d8e257"
   },
   "outputs": [
    {
     "name": "stdout",
     "output_type": "stream",
     "text": [
      "[[0 0 0 0 0]\n",
      " [1 0 0 0 0]\n",
      " [0 2 0 0 0]\n",
      " [0 0 3 0 0]\n",
      " [0 0 0 4 0]]\n"
     ]
    }
   ],
   "source": [
    "matrix = np.diag([1,2,3,4], k= -1)\n",
    "print(matrix)"
   ]
  },
  {
   "cell_type": "markdown",
   "id": "6d17ab5d",
   "metadata": {
    "id": "6d17ab5d"
   },
   "source": [
    "#### 17. Create a 8x8 matrix and fill it with a checkerboard pattern (★☆☆)"
   ]
  },
  {
   "cell_type": "code",
   "execution_count": 74,
   "id": "841373cd",
   "metadata": {
    "id": "841373cd"
   },
   "outputs": [
    {
     "name": "stdout",
     "output_type": "stream",
     "text": [
      "[[0. 1. 0. 1. 0. 1. 0. 1.]\n",
      " [1. 0. 1. 0. 1. 0. 1. 0.]\n",
      " [0. 1. 0. 1. 0. 1. 0. 1.]\n",
      " [1. 0. 1. 0. 1. 0. 1. 0.]\n",
      " [0. 1. 0. 1. 0. 1. 0. 1.]\n",
      " [1. 0. 1. 0. 1. 0. 1. 0.]\n",
      " [0. 1. 0. 1. 0. 1. 0. 1.]\n",
      " [1. 0. 1. 0. 1. 0. 1. 0.]]\n"
     ]
    }
   ],
   "source": [
    "matrix = np.zeros((8,8))\n",
    "matrix[1::2, ::2] = 1 #홀수행의 짝수열에 1배치\n",
    "matrix[::2, 1::2] = 1 #짝수행의 홀수열에 1배치\n",
    "print(matrix)"
   ]
  },
  {
   "cell_type": "markdown",
   "id": "8837119b",
   "metadata": {
    "id": "8837119b"
   },
   "source": [
    "#### 18. Consider a (6,7,8) shape array, what is the index (x,y,z) of the 100th element? (★☆☆)\n",
    "Hint : use 'numpy.unravel_index(value, (x, y, z))"
   ]
  },
  {
   "cell_type": "code",
   "execution_count": 76,
   "id": "2c0d16f1",
   "metadata": {
    "id": "2c0d16f1"
   },
   "outputs": [
    {
     "name": "stdout",
     "output_type": "stream",
     "text": [
      "(1, 5, 4)\n"
     ]
    }
   ],
   "source": [
    "array = np.unravel_index(100, (6,7,8))\n",
    "print(array)"
   ]
  },
  {
   "cell_type": "markdown",
   "id": "391791e0",
   "metadata": {
    "id": "391791e0"
   },
   "source": [
    "#### 19. Normalize a 5x5 random matrix (★☆☆)\n",
    "Hint : $Z = \\frac{X - \\overline{X}}{S}$"
   ]
  },
  {
   "cell_type": "code",
   "execution_count": 84,
   "id": "f6533d39",
   "metadata": {
    "id": "f6533d39"
   },
   "outputs": [
    {
     "name": "stdout",
     "output_type": "stream",
     "text": [
      "[[-1.89773733  1.41927535 -0.20286329 -1.66433156  0.99714578]\n",
      " [-0.05097949  0.50941371 -0.45834858  0.26789047 -0.84219415]\n",
      " [ 0.19747574  1.42070005 -1.26900342 -0.95206816  0.14956016]\n",
      " [ 0.41373127  1.75167967 -0.27314962  0.64154715  1.43783555]\n",
      " [ 0.78865297 -1.39657678 -0.77738901  0.50192534 -0.71219179]]\n"
     ]
    }
   ],
   "source": [
    "array = np.random.random((5,5))\n",
    "mean_value = np.mean(array)\n",
    "std_value = np.std(array)\n",
    "norm_array = (array - mean_value) / std_value\n",
    "print(norm_array)"
   ]
  },
  {
   "cell_type": "markdown",
   "id": "1e74d39e",
   "metadata": {
    "id": "1e74d39e"
   },
   "source": [
    "#### 20. Create a custom dtype that describes a color as four unsigned bytes (RGBA) (★☆☆)\n",
    "Hint : modify the code below\n",
    "```python\n",
    "numpy.dtype([(value, numpy.ubyte), … , (value, numpy.ubyte)])\n",
    "```"
   ]
  },
  {
   "cell_type": "code",
   "execution_count": 99,
   "id": "3f639d33",
   "metadata": {
    "id": "3f639d33"
   },
   "outputs": [
    {
     "name": "stdout",
     "output_type": "stream",
     "text": [
      "[('Red', 'u1'), ('Green', 'u1'), ('Blue', 'u1'), ('Alpha', 'u1')]\n"
     ]
    }
   ],
   "source": [
    "rgba = np.dtype([('Red', np.ubyte), ('Green', np.ubyte), ('Blue', np.ubyte), ('Alpha', np.ubyte)]) #alpha 투명도\n",
    "print(rgba)"
   ]
  },
  {
   "cell_type": "markdown",
   "id": "78250c14",
   "metadata": {
    "id": "78250c14"
   },
   "source": [
    "#### 21. Multiply a 5x3 matrix by a 3x2 matrix (real matrix product) (★☆☆)"
   ]
  },
  {
   "cell_type": "code",
   "execution_count": null,
   "id": "TtShofRntKKt",
   "metadata": {
    "id": "TtShofRntKKt"
   },
   "outputs": [],
   "source": []
  },
  {
   "cell_type": "code",
   "execution_count": null,
   "id": "9fe729cb",
   "metadata": {
    "id": "9fe729cb"
   },
   "outputs": [],
   "source": []
  },
  {
   "cell_type": "markdown",
   "id": "51898680",
   "metadata": {
    "id": "51898680"
   },
   "source": [
    "#### 22. Given a 1D array, negate all elements which are between 3 and 8, in place. (★☆☆)"
   ]
  },
  {
   "cell_type": "code",
   "execution_count": null,
   "id": "51c90f2d",
   "metadata": {
    "id": "51c90f2d"
   },
   "outputs": [],
   "source": []
  },
  {
   "cell_type": "markdown",
   "id": "89e78048",
   "metadata": {
    "id": "89e78048"
   },
   "source": [
    "#### 23. What is the output of the following script? (★☆☆)\n",
    "```python\n",
    "# Author: Jake VanderPlas\n",
    "\n",
    "print(sum(range(5),-1))\n",
    "from numpy import *\n",
    "print(sum(range(5),-1))\n",
    "```"
   ]
  },
  {
   "cell_type": "markdown",
   "id": "anrGLNS4FZMi",
   "metadata": {
    "id": "anrGLNS4FZMi"
   },
   "source": [
    "*   Python Built-in sum Function: The sum of range(5) (which is 0 + 1 + 2 + 3 + 4 = 10) is computed, and then -1 is added to it. The result will be 9\n",
    "*   NumPy's sum Function: NumPy's sum function doesn't treat the second argument as a start value like Python's built-in sum. Instead, it treats it as an axis parameter. Since -1 is not a valid axis for a 1D sequence (the valid axis for a 1D array is 0), NumPy will raise a TypeError\n"
   ]
  },
  {
   "cell_type": "markdown",
   "id": "ebd10810",
   "metadata": {
    "id": "ebd10810"
   },
   "source": [
    "#### 24. Consider an integer vector Z, which of these expressions are legal? (★☆☆)\n",
    "```python\n",
    "Z**Z\n",
    "2 << Z >> 2\n",
    "Z <- Z\n",
    "1j*Z\n",
    "Z/1/1\n",
    "Z<Z>Z\n",
    "```"
   ]
  },
  {
   "cell_type": "code",
   "execution_count": null,
   "id": "6ada209f",
   "metadata": {
    "id": "6ada209f"
   },
   "outputs": [],
   "source": []
  },
  {
   "cell_type": "markdown",
   "id": "c0e940f8",
   "metadata": {
    "id": "c0e940f8"
   },
   "source": [
    "#### 25. What are the result of the following expressions? (★☆☆)\n",
    "```python\n",
    "np.array(0) / np.array(0)\n",
    "np.array(0) // np.array(0)\n",
    "np.array([np.nan]).astype(int).astype(float)\n",
    "```"
   ]
  },
  {
   "cell_type": "code",
   "execution_count": null,
   "id": "820dc7a5",
   "metadata": {
    "id": "820dc7a5"
   },
   "outputs": [],
   "source": []
  },
  {
   "cell_type": "markdown",
   "id": "f1ae2c2d",
   "metadata": {
    "id": "f1ae2c2d"
   },
   "source": [
    "#### 26. How to find common values between two arrays? (★☆☆)\n",
    "```python\n",
    "Z1 = np.random.randint(0,10,10)\n",
    "Z2 = np.random.randint(0,10,10)\n",
    "```\n",
    "Hint : use `numpy.random.randint(start, end, size)`"
   ]
  },
  {
   "cell_type": "code",
   "execution_count": null,
   "id": "6801c73d",
   "metadata": {
    "id": "6801c73d"
   },
   "outputs": [],
   "source": []
  },
  {
   "cell_type": "markdown",
   "id": "37bc0973",
   "metadata": {
    "id": "37bc0973"
   },
   "source": [
    "#### 27. Is the following expressions true? (★☆☆)\n",
    "```python\n",
    "np.sqrt(-1) == np.emath.sqrt(-1)\n",
    "```"
   ]
  },
  {
   "cell_type": "code",
   "execution_count": null,
   "id": "c70cbabe",
   "metadata": {
    "id": "c70cbabe"
   },
   "outputs": [],
   "source": []
  },
  {
   "cell_type": "markdown",
   "id": "42f8b2f9",
   "metadata": {
    "id": "42f8b2f9"
   },
   "source": [
    "#### 28. How to get all the dates corresponding to the month of July 2016? (★★☆)\n",
    "Hint : modify the code below\n",
    "```python\n",
    "Z = np.arange('start', 'end', dtype='datetime64[D]')\n",
    "```"
   ]
  },
  {
   "cell_type": "code",
   "execution_count": null,
   "id": "3kkl01x3x0NF",
   "metadata": {
    "id": "3kkl01x3x0NF"
   },
   "outputs": [],
   "source": []
  },
  {
   "cell_type": "markdown",
   "id": "252c43e2",
   "metadata": {
    "id": "252c43e2"
   },
   "source": [
    "#### 29. How to compute ((A+B)*(-A/2)) in place (without copy)? (★★☆)\n",
    "Hint : use `numpy.add`, `numpy.divide`,`numpy.negative`, `numpy.multiply` and parameter `out` of the funtions"
   ]
  },
  {
   "cell_type": "code",
   "execution_count": null,
   "id": "pTZ3TAaECwZM",
   "metadata": {
    "id": "pTZ3TAaECwZM"
   },
   "outputs": [],
   "source": []
  },
  {
   "cell_type": "markdown",
   "id": "486df8ea",
   "metadata": {
    "id": "486df8ea"
   },
   "source": [
    "#### 30. Extract the integer part of a random array of positive numbers using 2 different methods (★★☆)\n",
    "Hint : `%`, `//`"
   ]
  },
  {
   "cell_type": "code",
   "execution_count": null,
   "id": "34b4fa08",
   "metadata": {
    "id": "34b4fa08"
   },
   "outputs": [],
   "source": []
  },
  {
   "cell_type": "markdown",
   "id": "649e89f9",
   "metadata": {
    "id": "649e89f9"
   },
   "source": [
    "#### 31. Create a 5x5 matrix with row values ranging from 0 to 4 (★★☆)"
   ]
  },
  {
   "cell_type": "code",
   "execution_count": null,
   "id": "663cc611",
   "metadata": {
    "id": "663cc611"
   },
   "outputs": [],
   "source": []
  },
  {
   "cell_type": "markdown",
   "id": "2d07be1c",
   "metadata": {
    "id": "2d07be1c"
   },
   "source": [
    "#### 32. Create a random vector of size 10 and sort it (★★☆)"
   ]
  },
  {
   "cell_type": "code",
   "execution_count": null,
   "id": "4f7cb3ad",
   "metadata": {
    "id": "4f7cb3ad"
   },
   "outputs": [],
   "source": []
  },
  {
   "cell_type": "markdown",
   "id": "fe043549",
   "metadata": {
    "id": "fe043549"
   },
   "source": [
    "#### 33. Consider two random array A and B, check if they are equal (★★☆)\n",
    "```python\n",
    "A = np.random.randint(0,2,5)\n",
    "B = np.random.randint(0,2,5)\n",
    "```\n",
    "Hint : Use `numpy.array_equal()`"
   ]
  },
  {
   "cell_type": "code",
   "execution_count": null,
   "id": "3326a686",
   "metadata": {
    "id": "3326a686"
   },
   "outputs": [],
   "source": []
  },
  {
   "cell_type": "markdown",
   "id": "2002cb03",
   "metadata": {
    "id": "2002cb03"
   },
   "source": [
    "#### 34. Consider a random 10x2 matrix representing cartesian coordinates, convert them to polar coordinates (★★☆)\n",
    "Hint 1 : Note that cartesian coodinate **(x, y)** can be represented as  polar coordinates **(distance from origin to (x,y), angle from the x-axis)**\n",
    "\n",
    "Hint 2 : Use `numpy.sqrt` and `numpy.arctan2`"
   ]
  },
  {
   "cell_type": "code",
   "execution_count": null,
   "id": "58be72bc",
   "metadata": {
    "id": "58be72bc"
   },
   "outputs": [],
   "source": []
  },
  {
   "cell_type": "markdown",
   "id": "b7109c9f",
   "metadata": {
    "id": "b7109c9f"
   },
   "source": [
    "#### 35. Create random vector Z of size 10 and replace the maximum value by 0 (★★☆)\n",
    "Hint : We can see the index of maximum value using `Z.argmax()`"
   ]
  },
  {
   "cell_type": "code",
   "execution_count": null,
   "id": "f79e79a7",
   "metadata": {
    "id": "f79e79a7"
   },
   "outputs": [],
   "source": []
  },
  {
   "cell_type": "markdown",
   "id": "e6e1ae2f",
   "metadata": {
    "id": "e6e1ae2f"
   },
   "source": [
    "#### 36. How to find the closest value (to a given scalar v) in a vector Z? (★★☆)\n",
    "```python\n",
    "Z = np.arange(100)\n",
    "v = np.random.uniform(0,100)\n",
    "```\n",
    "Hint : Coumpute the distances between the each elements of Z and the scalar v. After that, we can see the index of minimum value using `argmin()`.  "
   ]
  },
  {
   "cell_type": "code",
   "execution_count": null,
   "id": "QkQ2Mii77FrE",
   "metadata": {
    "id": "QkQ2Mii77FrE"
   },
   "outputs": [],
   "source": []
  },
  {
   "cell_type": "markdown",
   "id": "f98713a6",
   "metadata": {
    "id": "f98713a6"
   },
   "source": [
    "#### 37. What is the equivalent of enumerate for numpy arrays? (★★☆)\n",
    "Hint : Use `numpy.ndenumerate()`or `numpy.ndindex()`\n",
    "\n",
    "Example of the output :\n",
    "```python\n",
    "Z = np.arange(9).reshape(3,3)\n",
    "```\n",
    "```python\n",
    "# output\n",
    "(0, 0) 0\n",
    "(0, 1) 1\n",
    "(0, 2) 2\n",
    "(1, 0) 3\n",
    "(1, 1) 4\n",
    "(1, 2) 5\n",
    "(2, 0) 6\n",
    "(2, 1) 7\n",
    "(2, 2) 8\n",
    "```"
   ]
  },
  {
   "cell_type": "code",
   "execution_count": null,
   "id": "64795f84",
   "metadata": {
    "id": "64795f84"
   },
   "outputs": [],
   "source": []
  },
  {
   "cell_type": "markdown",
   "id": "0cf413ee",
   "metadata": {
    "id": "0cf413ee"
   },
   "source": [
    "#### 38. How to randomly place p elements in a 2D array? (★★☆)\n",
    "Hint : modify the code below\n",
    "```python\n",
    "n = 'size of a 2D array'\n",
    "p = 'the number of elements that you want to place'\n",
    "Z = np.zeros((n,n))\n",
    "np.put(Z, np.random.choice(range(n*n), p, replace = False),'value that you want to place')\n",
    "print(Z)\n",
    "```"
   ]
  },
  {
   "cell_type": "code",
   "execution_count": null,
   "id": "dfc57e06",
   "metadata": {
    "id": "dfc57e06"
   },
   "outputs": [],
   "source": []
  },
  {
   "cell_type": "markdown",
   "id": "c0cf37e0",
   "metadata": {
    "id": "c0cf37e0"
   },
   "source": [
    "#### 39. How to sort an array below by the nth column? (★★☆)\n",
    "```python\n",
    "Z = np.random.randint(0,10,(3,3))\n",
    "```"
   ]
  },
  {
   "cell_type": "code",
   "execution_count": 1,
   "id": "9336ca5f",
   "metadata": {
    "id": "9336ca5f"
   },
   "outputs": [],
   "source": [
    "# column 3"
   ]
  },
  {
   "cell_type": "code",
   "execution_count": 2,
   "id": "0hZzZ6tn2K6V",
   "metadata": {
    "id": "0hZzZ6tn2K6V"
   },
   "outputs": [],
   "source": [
    "# column 2\n"
   ]
  },
  {
   "cell_type": "code",
   "execution_count": 3,
   "id": "z4zqQXvt2NaB",
   "metadata": {
    "id": "z4zqQXvt2NaB"
   },
   "outputs": [],
   "source": [
    "# column 3\n"
   ]
  }
 ],
 "metadata": {
  "colab": {
   "provenance": []
  },
  "kernelspec": {
   "display_name": "Python 3 (ipykernel)",
   "language": "python",
   "name": "python3"
  },
  "language_info": {
   "codemirror_mode": {
    "name": "ipython",
    "version": 3
   },
   "file_extension": ".py",
   "mimetype": "text/x-python",
   "name": "python",
   "nbconvert_exporter": "python",
   "pygments_lexer": "ipython3",
   "version": "3.12.4"
  }
 },
 "nbformat": 4,
 "nbformat_minor": 5
}
