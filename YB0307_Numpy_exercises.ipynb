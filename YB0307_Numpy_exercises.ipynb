{
 "cells": [
  {
   "cell_type": "markdown",
   "id": "78250c14",
   "metadata": {
    "id": "78250c14"
   },
   "source": [
    "#### 21. Multiply a 5x3 matrix by a 3x2 matrix (real matrix product) (★☆☆)"
   ]
  },
  {
   "cell_type": "code",
   "execution_count": 12,
   "id": "9fe729cb",
   "metadata": {
    "colab": {
     "base_uri": "https://localhost:8080/"
    },
    "id": "9fe729cb",
    "outputId": "d7b1e19c-3d01-44c8-99a5-47789c427c93"
   },
   "outputs": [
    {
     "name": "stdout",
     "output_type": "stream",
     "text": [
      "5X3 matrix:\n",
      " [[0.53276213 0.53601047 0.96739377]\n",
      " [0.41959824 0.61345729 0.57908554]\n",
      " [0.00902509 0.65667978 0.84104025]\n",
      " [0.38888531 0.18722012 0.37284975]\n",
      " [0.25759131 0.07173383 0.64735974]]\n",
      "3X2 matrix:\n",
      " [[0.41861342 0.8562755 ]\n",
      " [0.44726529 0.27296544]\n",
      " [0.54210435 0.32640928]]\n",
      "Multiply two matrix:\n",
      " [[0.98718863 0.91826979]\n",
      " [0.7639524  0.71576322]\n",
      " [0.75341968 0.46150219]\n",
      " [0.44865315 0.5057992 ]\n",
      " [0.49085176 0.45145421]]\n"
     ]
    }
   ],
   "source": [
    "import numpy as np\n",
    "\n",
    "A = np.random.random((5,3))\n",
    "B = np.random.random((3,2))\n",
    "\n",
    "print(\"5X3 matrix:\\n\", A)\n",
    "print(\"3X2 matrix:\\n\", B)\n",
    "print(\"Multiply two matrix:\\n\", np.dot(A,B))"
   ]
  },
  {
   "cell_type": "markdown",
   "id": "51898680",
   "metadata": {
    "id": "51898680"
   },
   "source": [
    "#### 22. Given a 1D array, negate all elements which are between 3 and 8, in place. (★☆☆)"
   ]
  },
  {
   "cell_type": "code",
   "execution_count": 41,
   "id": "wc9KlLR1paf1",
   "metadata": {
    "colab": {
     "base_uri": "https://localhost:8080/"
    },
    "id": "wc9KlLR1paf1",
    "outputId": "066dfa4f-4268-4950-c21c-3502184d03d0"
   },
   "outputs": [
    {
     "name": "stdout",
     "output_type": "stream",
     "text": [
      "[ 0  1  2  3 -4 -5 -6 -7  8  9]\n"
     ]
    }
   ],
   "source": [
    "array1 = np.arange(10)\n",
    "array1[(3 < array1) & (array1 < 8)] *= -1\n",
    "print(array1)"
   ]
  },
  {
   "cell_type": "markdown",
   "id": "89e78048",
   "metadata": {
    "id": "89e78048"
   },
   "source": [
    "#### 23. What is the output of the following script? (★☆☆)\n",
    "```python\n",
    "# Author: Jake VanderPlas\n",
    "\n",
    "print(sum(range(5),-1))\n",
    "from numpy import *\n",
    "print(sum(range(5),-1))\n",
    "```"
   ]
  },
  {
   "cell_type": "markdown",
   "id": "0DkrFvO0lvsh",
   "metadata": {
    "id": "0DkrFvO0lvsh"
   },
   "source": [
    "9 10"
   ]
  },
  {
   "cell_type": "markdown",
   "id": "ebd10810",
   "metadata": {
    "id": "ebd10810"
   },
   "source": [
    "#### 24. Consider an integer vector Z, which of these expressions are legal? (★☆☆)\n",
    "```python\n",
    "Z**Z\n",
    "2 << Z >> 2\n",
    "Z <- Z\n",
    "1j*Z\n",
    "Z/1/1\n",
    "Z<Z>Z\n",
    "```"
   ]
  },
  {
   "cell_type": "markdown",
   "id": "c096051b-83ba-4d8b-b05c-1230eee19fef",
   "metadata": {},
   "source": [
    "1. 유효\n",
    "2. 유효\n",
    "3. 무효: '<-'는 존재하지 않는 연산자\n",
    "4. 유효\n",
    "5. 유효\n",
    "6. 무효: 잘못된 비교 연산 "
   ]
  },
  {
   "cell_type": "markdown",
   "id": "tkKKOmgWmQ9U",
   "metadata": {
    "id": "tkKKOmgWmQ9U"
   },
   "source": [
    "\n"
   ]
  },
  {
   "cell_type": "markdown",
   "id": "c0e940f8",
   "metadata": {
    "id": "c0e940f8"
   },
   "source": [
    "#### 25. What are the result of the following expressions? (★☆☆)\n",
    "```python\n",
    "np.array(0) / np.array(0)\n",
    "np.array(0) // np.array(0)\n",
    "np.array([np.nan]).astype(int).astype(float)\n",
    "```"
   ]
  },
  {
   "cell_type": "code",
   "execution_count": 17,
   "id": "fb54324d-587a-4570-8dbb-24e023ac330c",
   "metadata": {
    "id": "H4kCQtOlmdmD"
   },
   "outputs": [
    {
     "name": "stderr",
     "output_type": "stream",
     "text": [
      "/var/folders/t6/l14298n92xx0dtft2b1m3sqm0000gn/T/ipykernel_51406/3176601847.py:1: RuntimeWarning: invalid value encountered in divide\n",
      "  np.array(0) / np.array(0)\n",
      "/var/folders/t6/l14298n92xx0dtft2b1m3sqm0000gn/T/ipykernel_51406/3176601847.py:2: RuntimeWarning: divide by zero encountered in floor_divide\n",
      "  np.array(0) // np.array(0)\n",
      "/var/folders/t6/l14298n92xx0dtft2b1m3sqm0000gn/T/ipykernel_51406/3176601847.py:3: RuntimeWarning: invalid value encountered in cast\n",
      "  np.array([np.nan]).astype(int).astype(float)\n"
     ]
    },
    {
     "data": {
      "text/plain": [
       "array([0.])"
      ]
     },
     "execution_count": 17,
     "metadata": {},
     "output_type": "execute_result"
    }
   ],
   "source": [
    "np.array(0) / np.array(0)\n",
    "np.array(0) // np.array(0)\n",
    "np.array([np.nan]).astype(int).astype(float)\n",
    "\n",
    "# 1. 0 / 0 은 수학적으로 정의되지 않음. \n",
    "# 2. 0 // 0 정수 나눗셈 역시 정의되지 않음\n",
    "# 이때, '/'와 '//'의 차이점은 '/'은 실수형 나눗셈, '//'은 나눈 후 내림 결과 도출\n",
    "# NaN을 값을 포함한 배열 생성 -> 정수형으로 변환 -> 실수형으로 변환"
   ]
  },
  {
   "cell_type": "markdown",
   "id": "f1ae2c2d",
   "metadata": {
    "id": "f1ae2c2d"
   },
   "source": [
    "#### 26. How to find common values between two arrays? (★☆☆)\n",
    "```python\n",
    "Z1 = np.random.randint(0,10,10)\n",
    "Z2 = np.random.randint(0,10,10)\n",
    "```\n",
    "Hint : use `numpy.random.randint(start, end, size)`"
   ]
  },
  {
   "cell_type": "code",
   "execution_count": 43,
   "id": "cyBTKMnhtMAm",
   "metadata": {
    "colab": {
     "base_uri": "https://localhost:8080/"
    },
    "id": "cyBTKMnhtMAm",
    "outputId": "42d7a723-b242-4142-ab49-4372f18205a4"
   },
   "outputs": [
    {
     "name": "stdout",
     "output_type": "stream",
     "text": [
      "[2 2 8 3 6 4 4 1 3 1]\n",
      "[6 4 3 6 1 6 8 8 3 0]\n",
      "[1 3 4 6 8]\n"
     ]
    }
   ],
   "source": [
    "Z1 = np.random.randint(0,10,10)\n",
    "Z2 = np.random.randint(0,10,10)\n",
    "print(Z1)\n",
    "print(Z2)\n",
    "\n",
    "common_values = np.intersect1d(Z1, Z2)\n",
    "print(common_values)"
   ]
  },
  {
   "cell_type": "markdown",
   "id": "37bc0973",
   "metadata": {
    "id": "37bc0973"
   },
   "source": [
    "#### 27. Is the following expressions true? (★☆☆)\n",
    "```python\n",
    "np.sqrt(-1) == np.emath.sqrt(-1)\n",
    "```"
   ]
  },
  {
   "cell_type": "markdown",
   "id": "nObjDabKF2nm",
   "metadata": {
    "id": "nObjDabKF2nm"
   },
   "source": [
    "False. nan!=1j\n"
   ]
  },
  {
   "cell_type": "markdown",
   "id": "f4f3d7d4-1bc6-4578-aa49-3dbe8bc8c44a",
   "metadata": {
    "colab": {
     "base_uri": "https://localhost:8080/"
    },
    "id": "c70cbabe",
    "outputId": "595cb6d9-988a-44a4-dceb-c85152f08eba"
   },
   "source": [
    "False, emath가 복소수"
   ]
  },
  {
   "cell_type": "markdown",
   "id": "42f8b2f9",
   "metadata": {
    "id": "42f8b2f9"
   },
   "source": [
    "#### 28. How to get all the dates corresponding to the month of July 2016? (★★☆)\n",
    "Hint : modify the code below\n",
    "```python\n",
    "Z = np.arange('start', 'end', dtype='datetime64[D]')\n",
    "```"
   ]
  },
  {
   "cell_type": "code",
   "execution_count": 39,
   "id": "3kkl01x3x0NF",
   "metadata": {
    "colab": {
     "base_uri": "https://localhost:8080/"
    },
    "id": "3kkl01x3x0NF",
    "outputId": "baf4dd16-a2f7-4e0e-95b2-45929c876f83"
   },
   "outputs": [
    {
     "name": "stdout",
     "output_type": "stream",
     "text": [
      "['2016-07-01' '2016-07-02' '2016-07-03' '2016-07-04' '2016-07-05'\n",
      " '2016-07-06' '2016-07-07' '2016-07-08' '2016-07-09' '2016-07-10'\n",
      " '2016-07-11' '2016-07-12' '2016-07-13' '2016-07-14' '2016-07-15'\n",
      " '2016-07-16' '2016-07-17' '2016-07-18' '2016-07-19' '2016-07-20'\n",
      " '2016-07-21' '2016-07-22' '2016-07-23' '2016-07-24' '2016-07-25'\n",
      " '2016-07-26' '2016-07-27' '2016-07-28' '2016-07-29' '2016-07-30'\n",
      " '2016-07-31']\n"
     ]
    }
   ],
   "source": [
    "Z = np.arange('2016-07-01', '2016-08-01', dtype='datetime64[D]')\n",
    "\n",
    "print(Z)"
   ]
  },
  {
   "cell_type": "markdown",
   "id": "252c43e2",
   "metadata": {
    "id": "252c43e2"
   },
   "source": [
    "#### 29. How to compute ((A+B)*(-A/2)) in place (without copy)? (★★☆)\n",
    "Hint : use `numpy.add`, `numpy.divide`,`numpy.negative`, `numpy.multiply` and parameter `out` of the funtions"
   ]
  },
  {
   "cell_type": "code",
   "execution_count": 27,
   "id": "f06ff615",
   "metadata": {
    "colab": {
     "base_uri": "https://localhost:8080/"
    },
    "id": "f06ff615",
    "outputId": "db2271fa-ca1d-4389-ab51-7770b39245a3"
   },
   "outputs": [
    {
     "name": "stdout",
     "output_type": "stream",
     "text": [
      "[[0.49323469 0.35407964 0.18991094]\n",
      " [0.06770268 0.25235478 0.26416625]\n",
      " [0.47730293 0.19946589 0.91656663]]\n"
     ]
    }
   ],
   "source": [
    "A = np.random.rand(3, 3) #3X3 랜덤 배열 생성\n",
    "B = np.random.rand(3, 3)\n",
    "\n",
    "C = np.add(A, B)\n",
    "\n",
    "D = np.divide(A, -2)\n",
    "\n",
    "E = np.multiply(A, A)\n",
    "\n",
    "print(E)"
   ]
  },
  {
   "cell_type": "markdown",
   "id": "486df8ea",
   "metadata": {
    "id": "486df8ea"
   },
   "source": [
    "#### 30. Extract the integer part of a random array of positive numbers using 2 different methods (★★☆)\n",
    "Hint : `%`, `//`"
   ]
  },
  {
   "cell_type": "code",
   "execution_count": 45,
   "id": "34b4fa08",
   "metadata": {
    "colab": {
     "base_uri": "https://localhost:8080/"
    },
    "id": "34b4fa08",
    "outputId": "5dae84e6-087c-4e26-dca7-1fa2cef50870"
   },
   "outputs": [
    {
     "name": "stdout",
     "output_type": "stream",
     "text": [
      "원본 배열: [5.9416643  1.59039577 0.48620343 2.39899472 7.20518049 0.24541514\n",
      " 4.92855808 8.31660573 4.48379652 8.31124722]\n",
      "방법 1: [5 1 0 2 7 0 4 8 4 8]\n",
      "방법 2: [5 1 0 2 7 0 4 8 4 8]\n"
     ]
    }
   ],
   "source": [
    "array2 = np.random.uniform(0, 10, 10)\n",
    "\n",
    "# 방법 1: np.floor() 사용\n",
    "int_part1 = np.floor(array2).astype(int)\n",
    "\n",
    "# 방법 2: astype를 사용\n",
    "int_part2 = array2.astype(int)\n",
    "\n",
    "print(\"원본 배열:\", array2)\n",
    "print(\"방법 1:\", int_part1)\n",
    "print(\"방법 2:\", int_part2)"
   ]
  },
  {
   "cell_type": "markdown",
   "id": "649e89f9",
   "metadata": {
    "id": "649e89f9"
   },
   "source": [
    "#### 31. Create a 5x5 matrix with row values ranging from 0 to 4 (★★☆)"
   ]
  },
  {
   "cell_type": "code",
   "execution_count": null,
   "id": "663cc611",
   "metadata": {
    "colab": {
     "base_uri": "https://localhost:8080/"
    },
    "id": "663cc611",
    "outputId": "6f99e40b-84ec-4ac8-a153-bb0060de0b88"
   },
   "outputs": [
    {
     "name": "stdout",
     "output_type": "stream",
     "text": [
      "[[1 0 1 4 4]\n",
      " [3 0 3 0 0]\n",
      " [1 4 4 3 0]\n",
      " [4 3 4 2 3]\n",
      " [1 3 2 3 3]]\n"
     ]
    }
   ],
   "source": []
  },
  {
   "cell_type": "markdown",
   "id": "2d07be1c",
   "metadata": {
    "id": "2d07be1c"
   },
   "source": [
    "#### 32. Create a random vector of size 10 and sort it (★★☆)"
   ]
  },
  {
   "cell_type": "code",
   "execution_count": 47,
   "id": "4f7cb3ad",
   "metadata": {
    "colab": {
     "base_uri": "https://localhost:8080/"
    },
    "id": "4f7cb3ad",
    "outputId": "5d341d7d-8daa-40f0-c715-c918b812dca9"
   },
   "outputs": [
    {
     "name": "stdout",
     "output_type": "stream",
     "text": [
      "Original Vector:\n",
      " [0.22423375 0.1669539  0.79945778 0.84275508 0.89484515 0.47981317\n",
      " 0.66246631 0.18687501 0.25171494 0.30868235]\n",
      "Sorted Vector:\n",
      " [0.1669539  0.18687501 0.22423375 0.25171494 0.30868235 0.47981317\n",
      " 0.66246631 0.79945778 0.84275508 0.89484515]\n"
     ]
    }
   ],
   "source": [
    "vector = np.random.rand(10)\n",
    "\n",
    "sorted_vector = np.sort(vector)\n",
    "\n",
    "print(\"Original Vector:\\n\", vector)\n",
    "print(\"Sorted Vector:\\n\", sorted_vector)"
   ]
  },
  {
   "cell_type": "markdown",
   "id": "fe043549",
   "metadata": {
    "id": "fe043549"
   },
   "source": [
    "#### 33. Consider two random array A and B, check if they are equal (★★☆)\n",
    "```python\n",
    "A = np.random.randint(0,2,5)\n",
    "B = np.random.randint(0,2,5)\n",
    "```\n",
    "Hint : Use `numpy.array_equal()`"
   ]
  },
  {
   "cell_type": "code",
   "execution_count": 29,
   "id": "3326a686",
   "metadata": {
    "colab": {
     "base_uri": "https://localhost:8080/"
    },
    "id": "3326a686",
    "outputId": "99d0cfa3-12f3-403f-c5cd-2b9e057702e5"
   },
   "outputs": [
    {
     "name": "stdout",
     "output_type": "stream",
     "text": [
      "False\n"
     ]
    }
   ],
   "source": [
    "A = np.random.randint(0,2,5)\n",
    "B = np.random.randint(0,2,5)\n",
    "\n",
    "print(np.array_equal(A,B))"
   ]
  },
  {
   "cell_type": "markdown",
   "id": "2002cb03",
   "metadata": {
    "id": "2002cb03"
   },
   "source": [
    "#### 34. Consider a random 10x2 matrix representing cartesian coordinates, convert them to polar coordinates (★★☆)\n",
    "Hint 1 : Note that cartesian coodinate **(x, y)** can be represented as  polar coordinates **(distance from origin to (x,y), angle from the x-axis)**\n",
    "\n",
    "Hint 2 : Use `numpy.sqrt` and `numpy.arctan2`"
   ]
  },
  {
   "cell_type": "code",
   "execution_count": 49,
   "id": "58be72bc",
   "metadata": {
    "id": "58be72bc"
   },
   "outputs": [
    {
     "name": "stdout",
     "output_type": "stream",
     "text": [
      "Cartesian Coordinates: [[0.16455326 0.83612806]\n",
      " [0.7723868  0.22242292]\n",
      " [0.91675506 0.11645851]\n",
      " [0.99530128 0.42786906]\n",
      " [0.33281389 0.42264258]\n",
      " [0.65925434 0.29539697]\n",
      " [0.72729431 0.66547241]\n",
      " [0.58265215 0.66496491]\n",
      " [0.70227414 0.37574459]\n",
      " [0.64129187 0.78441543]]\n",
      "\n",
      "Polar Coordinates: [[0.8521666  1.37647582]\n",
      " [0.80377442 0.28038233]\n",
      " [0.92412252 0.1263566 ]\n",
      " [1.08337277 0.40600436]\n",
      " [0.53795152 0.90374898]\n",
      " [0.72240962 0.42125395]\n",
      " [0.98580452 0.74103944]\n",
      " [0.88411643 0.85127867]\n",
      " [0.79647534 0.49128492]\n",
      " [1.01319437 0.88545072]]\n"
     ]
    }
   ],
   "source": [
    "# 랜덤 행렬 생성\n",
    "cartesian_matrix = np.random.rand(10, 2)\n",
    "\n",
    "# 극좌표 변환\n",
    "r = np.sqrt(cartesian_matrix[:, 0]**2 + cartesian_matrix[:, 1]**2)\n",
    "theta = np.arctan2(cartesian_matrix[:, 1], cartesian_matrix[:, 0])\n",
    "\n",
    "# 결과 출력\n",
    "print(\"Cartesian Coordinates:\", cartesian_matrix)\n",
    "print(\"\\nPolar Coordinates:\", np.column_stack((r, theta)))"
   ]
  },
  {
   "cell_type": "markdown",
   "id": "b7109c9f",
   "metadata": {
    "id": "b7109c9f"
   },
   "source": [
    "#### 35. Create random vector Z of size 10 and replace the maximum value by 0 (★★☆)\n",
    "Hint : We can see the index of maximum value using `Z.argmax()`"
   ]
  },
  {
   "cell_type": "code",
   "execution_count": 58,
   "id": "f79e79a7",
   "metadata": {
    "colab": {
     "base_uri": "https://localhost:8080/"
    },
    "id": "f79e79a7",
    "outputId": "2f09daf9-19b8-4996-8c40-2b1135c236f6"
   },
   "outputs": [
    {
     "data": {
      "text/plain": [
       "array([0.62751788, 0.07920186, 0.04659833, 0.44967325, 0.22038295,\n",
       "       0.11091666, 0.58064973, 0.48131174, 0.        , 0.75715238])"
      ]
     },
     "execution_count": 58,
     "metadata": {},
     "output_type": "execute_result"
    }
   ],
   "source": [
    "Z = np.random.random(10)\n",
    "maximum_index = Z.argmax()\n",
    "Z[maximum_index]=0\n",
    "Z"
   ]
  },
  {
   "cell_type": "markdown",
   "id": "e6e1ae2f",
   "metadata": {
    "id": "e6e1ae2f"
   },
   "source": [
    "#### 36. How to find the closest value (to a given scalar v) in a vector Z? (★★☆)\n",
    "```python\n",
    "Z = np.arange(100)\n",
    "v = np.random.uniform(0,100)\n",
    "```\n",
    "Hint : Coumpute the distances between the each elements of Z and the scalar v. After that, we can see the index of minimum value using `argmin()`.  "
   ]
  },
  {
   "cell_type": "code",
   "execution_count": 53,
   "id": "QkQ2Mii77FrE",
   "metadata": {
    "colab": {
     "base_uri": "https://localhost:8080/"
    },
    "id": "QkQ2Mii77FrE",
    "outputId": "2ac3160c-b433-4561-d77e-484ef3a8d6eb"
   },
   "outputs": [
    {
     "name": "stdout",
     "output_type": "stream",
     "text": [
      "Closest value in a vector Z: 0.87774566\n"
     ]
    }
   ],
   "source": [
    "Z = np.array([0.44543135, 0.15272685, 0.        , 0.87774566, 0.23038287,\n",
    "       0.63059028, 0.85004996, 0.4217004 , 0.87033034, 0.32653317]) \n",
    "\n",
    "v = np.random.uniform(0, 100)  \n",
    "\n",
    "dist = np.abs(Z - v)\n",
    "\n",
    "index = np.argmin(dist)\n",
    "\n",
    "closest_value = Z[index]\n",
    "\n",
    "print(\"Closest value in a vector Z:\", closest_value)"
   ]
  },
  {
   "cell_type": "markdown",
   "id": "f98713a6",
   "metadata": {
    "id": "f98713a6"
   },
   "source": [
    "#### 37. What is the equivalent of enumerate for numpy arrays? (★★☆)\n",
    "Hint : Use `numpy.ndenumerate()`or `numpy.ndindex()`\n",
    "\n",
    "Example of the output :\n",
    "```python\n",
    "Z = np.arange(9).reshape(3,3)\n",
    "```\n",
    "```python\n",
    "# output\n",
    "(0, 0) 0\n",
    "(0, 1) 1\n",
    "(0, 2) 2\n",
    "(1, 0) 3\n",
    "(1, 1) 4\n",
    "(1, 2) 5\n",
    "(2, 0) 6\n",
    "(2, 1) 7\n",
    "(2, 2) 8\n",
    "```"
   ]
  },
  {
   "cell_type": "code",
   "execution_count": 35,
   "id": "64795f84",
   "metadata": {
    "id": "64795f84"
   },
   "outputs": [
    {
     "name": "stdout",
     "output_type": "stream",
     "text": [
      "(0, 0) 0\n",
      "(0, 1) 1\n",
      "(0, 2) 2\n",
      "(1, 0) 3\n",
      "(1, 1) 4\n",
      "(1, 2) 5\n",
      "(2, 0) 6\n",
      "(2, 1) 7\n",
      "(2, 2) 8\n"
     ]
    }
   ],
   "source": [
    "Z = np.arange(9).reshape(3,3)\n",
    "\n",
    "for index, value in np.ndenumerate(Z): # enumerate() - (인덱스,값)을 동시에 반환하는 함수 / index() - 인덱스만 반환하는 함수\n",
    "\n",
    "    print(index, value)"
   ]
  },
  {
   "cell_type": "markdown",
   "id": "0cf413ee",
   "metadata": {
    "id": "0cf413ee"
   },
   "source": [
    "#### 38. How to randomly place p elements in a 2D array? (★★☆)\n",
    "Hint : modify the code below\n",
    "```python\n",
    "n = 'size of a 2D array'\n",
    "p = 'the number of elements that you want to place'\n",
    "Z = np.zeros((n,n))\n",
    "np.put(Z, np.random.choice(range(n*n), p, replace = False),'value that you want to place')\n",
    "print(Z)\n",
    "```"
   ]
  },
  {
   "cell_type": "code",
   "execution_count": 51,
   "id": "dfc57e06",
   "metadata": {
    "colab": {
     "base_uri": "https://localhost:8080/"
    },
    "id": "dfc57e06",
    "outputId": "858c4779-a290-462e-94c8-22825a7ba0fa"
   },
   "outputs": [
    {
     "name": "stdout",
     "output_type": "stream",
     "text": [
      "[[8. 0. 0.]\n",
      " [8. 0. 0.]\n",
      " [0. 0. 0.]]\n"
     ]
    }
   ],
   "source": [
    "n = 3\n",
    "p = 2\n",
    "Z = np.zeros((n,n))\n",
    "np.put(Z, np.random.choice(range(n*n), p, replace = False),8)\n",
    "print(Z)"
   ]
  },
  {
   "cell_type": "markdown",
   "id": "c0cf37e0",
   "metadata": {
    "id": "c0cf37e0"
   },
   "source": [
    "#### 39. How to sort an array below by the nth column? (★★☆)\n",
    "```python\n",
    "Z = np.random.randint(0,10,(3,3))\n",
    "```"
   ]
  },
  {
   "cell_type": "code",
   "execution_count": 60,
   "id": "9336ca5f",
   "metadata": {
    "colab": {
     "base_uri": "https://localhost:8080/"
    },
    "id": "9336ca5f",
    "outputId": "83f20902-65e5-46ee-bb55-bbb06a987489"
   },
   "outputs": [
    {
     "name": "stdout",
     "output_type": "stream",
     "text": [
      "[[1 7 3]\n",
      " [9 0 1]\n",
      " [8 6 4]] \n",
      "\n",
      " [[1 7 3]\n",
      " [8 6 4]\n",
      " [9 0 1]]\n"
     ]
    }
   ],
   "source": [
    "array39_1 = np.array([[1, 7, 3],\n",
    "                     [9, 0, 1],\n",
    "                     [8, 6, 4]])\n",
    "indices = [0,2,1]\n",
    "answer39_1 = array39_1[indices]\n",
    "print(array39_1,'\\n\\n',answer39_1)"
   ]
  },
  {
   "cell_type": "code",
   "execution_count": 62,
   "id": "0hZzZ6tn2K6V",
   "metadata": {
    "colab": {
     "base_uri": "https://localhost:8080/"
    },
    "id": "0hZzZ6tn2K6V",
    "outputId": "fd3ef579-8e65-4ba6-99ec-0d9bf74876b6"
   },
   "outputs": [
    {
     "name": "stdout",
     "output_type": "stream",
     "text": [
      "[[7 6 7]\n",
      " [7 8 4]\n",
      " [5 4 7]] \n",
      "\n",
      " [[5 4 7]\n",
      " [7 6 7]\n",
      " [7 8 4]]\n"
     ]
    }
   ],
   "source": [
    "array39_2 = np.array([[7, 6, 7],\n",
    "                    [7, 8, 4],\n",
    "                    [5, 4, 7]])\n",
    "indices = [2,0,1]\n",
    "answer39_2 = array39_2[indices]\n",
    "print(array39_2,'\\n\\n',answer39_2)"
   ]
  },
  {
   "cell_type": "code",
   "execution_count": 64,
   "id": "z4zqQXvt2NaB",
   "metadata": {
    "colab": {
     "base_uri": "https://localhost:8080/"
    },
    "id": "z4zqQXvt2NaB",
    "outputId": "ebaa7f5f-675f-4be4-ac7e-e708262328ad"
   },
   "outputs": [
    {
     "name": "stdout",
     "output_type": "stream",
     "text": [
      "[[7 9 5]\n",
      " [1 8 2]\n",
      " [6 8 1]] \n",
      "\n",
      " [[6 8 1]\n",
      " [1 8 2]\n",
      " [7 9 5]]\n"
     ]
    }
   ],
   "source": [
    "array39_3 = np.array([[7, 9, 5],\n",
    "                      [1, 8, 2],\n",
    "                      [6, 8, 1]])\n",
    "indices = [2,1,0]\n",
    "answer39_3 = array39_3[indices]\n",
    "print(array39_3,'\\n\\n',answer39_3)"
   ]
  }
 ],
 "metadata": {
  "colab": {
   "provenance": []
  },
  "kernelspec": {
   "display_name": "Python 3 (ipykernel)",
   "language": "python",
   "name": "python3"
  },
  "language_info": {
   "codemirror_mode": {
    "name": "ipython",
    "version": 3
   },
   "file_extension": ".py",
   "mimetype": "text/x-python",
   "name": "python",
   "nbconvert_exporter": "python",
   "pygments_lexer": "ipython3",
   "version": "3.12.4"
  }
 },
 "nbformat": 4,
 "nbformat_minor": 5
}
