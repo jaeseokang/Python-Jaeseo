{
 "cells": [
  {
   "cell_type": "markdown",
   "id": "b4a1e875-7f4b-4014-b4f2-3ffc6d72aa03",
   "metadata": {},
   "source": [
    "# [주제 및 데이터]"
   ]
  },
  {
   "cell_type": "markdown",
   "id": "a01f49f3-29af-474a-b845-e09d047f88a2",
   "metadata": {},
   "source": [
    "### 주제 : Social media usage\n",
    "\n",
    "Kaggle에서 제공하는 소셜 미디어 사용 관련 데이터셋 사용\n",
    "\n",
    "### 데이터\n",
    "- social_media_usage.cvs : 주요 변수는 User_ID, App, Daily_Minutes_Spent, Posts_Per_Day, Likes_Per_Day, Follows_Per_Day\n",
    "\n",
    "### 목적 \n",
    "- 소셜 미디어 사용 데이터를 분석해 사용자 행동과 플랫폼 간의 상호작용을 탐색"
   ]
  },
  {
   "cell_type": "markdown",
   "id": "8cd4049c-8ed4-49e5-8942-36470591b3cc",
   "metadata": {},
   "source": [
    "# [코드 리뷰]\n",
    "\n",
    "### (1) EDA\n",
    "- 결측치 확인 : 없음\n",
    "- duplicated 확인 : 없음\n",
    "- 이상치 확인 : nulmeric_cols(Daily_Minutes_Spent, Posts_Per_Day, Likes_Per_Day, Follows_Per_Day) boxplot/histplot 확인\n",
    "- corr 확인\n",
    "- histplot 확인 : App, Daily_Minutes_Spent를 groupby 시킴\n",
    "\n",
    "### (2) 기능 엔지니어링 및 데이터 정리\n",
    "- df 변형 : Total_Engagement = Posts_Per_Day + Likes_Per_Day + Follows_Per_Day, Engagement_Per_Minute = Toal_Engagement / Daily_Minutes_Spent\n",
    "\n",
    "### (3) 모델 훈련 및 생성\n",
    "- features 변수 생성 : Daily_Minutes_Spent, Posts_Per_Day, Likes_Per_Day, Follows_Per_Day, Total_Engagement, Engagement_Per_Minutes\n",
    "- High_Engagement 변수 생성 후 value_counts()\n",
    "- X, y 변수 대입 후 train/test split\n",
    "- StandardScaler\n",
    "- model 정의 : LogisticRegression, RandomForestClassifier, SVC, KNeighborsClassifier\n",
    "- 모델별 Accuracy, Precision, Recall, F1-score 확인\n",
    "- ROC Curve 확인\n",
    "\n",
    "### (4) 후처리\n",
    "- 모델별 Confusion matrix 확인"
   ]
  },
  {
   "cell_type": "markdown",
   "id": "bbc41f4f-d01a-4b41-903b-d6a8d5f4c0f3",
   "metadata": {},
   "source": [
    "# [차별 점 및 배울 점]\n",
    "\n",
    "### [차별 점]\n",
    "- 변수를 이용해 새로운 변수(Total_Engagement, Engagement_Per_Minute)를 생성하여 X 값으로 지정 \n",
    "- 변수의 기준치를 두고 High_Engagement 변수 생성\n",
    "\n",
    "### [배울 점]\n",
    "- null 값 확인 후 duplicated 값까지 확인한 점이 세부적이었음.\n",
    "- df를 변형해 더 가치있는 변수를 생성한 점이 인상깊었음.\n",
    "- 모델별 score 확인 후 ROC Curve까지 확인한 점이 좋았음."
   ]
  }
 ],
 "metadata": {
  "kernelspec": {
   "display_name": "Python 3 (ipykernel)",
   "language": "python",
   "name": "python3"
  },
  "language_info": {
   "codemirror_mode": {
    "name": "ipython",
    "version": 3
   },
   "file_extension": ".py",
   "mimetype": "text/x-python",
   "name": "python",
   "nbconvert_exporter": "python",
   "pygments_lexer": "ipython3",
   "version": "3.12.2"
  }
 },
 "nbformat": 4,
 "nbformat_minor": 5
}
