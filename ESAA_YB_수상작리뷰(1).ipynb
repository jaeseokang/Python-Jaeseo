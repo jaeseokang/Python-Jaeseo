{
 "cells": [
  {
   "cell_type": "markdown",
   "id": "b4a1e875-7f4b-4014-b4f2-3ffc6d72aa03",
   "metadata": {},
   "source": [
    "# [주제 및 데이터]"
   ]
  },
  {
   "cell_type": "markdown",
   "id": "a01f49f3-29af-474a-b845-e09d047f88a2",
   "metadata": {},
   "source": [
    "### 주제 : House Prices Prediction using TFDF\n",
    "\n",
    "주어진 '주택 특성 데이터(79개 변수)'를 기반으로, 집값 SalePrice를 예측하는 회귀 문제\n",
    "\n",
    "### 데이터\n",
    "- train.csv : 테스트 세트\n",
    "- test.csv : 훈련 세트\n",
    "- data_description.txt : 건물 수, 도로 접근 유형, 재산 형태, 평당 피트 등 79개의 변수들이 있음.\n",
    "- sample_submission.csv : 판매, 침실 수 등이 있음.\n",
    "\n",
    "### 목적 \n",
    "- TensorFlow Decision Forests(TFDF)를 사용해 주택 가격 예측 모델을 구축"
   ]
  },
  {
   "cell_type": "markdown",
   "id": "8cd4049c-8ed4-49e5-8942-36470591b3cc",
   "metadata": {},
   "source": [
    "# [코드 리뷰]\n",
    "\n",
    "### (1) EDA\n",
    "- data 파악(info) : train.csv와 test.cvs를 불러옴.\n",
    "- target인 SalePrice 분포(describe) 확인 및 distplot 시각화\n",
    "- num(float, int)형 변수 hist 확인\n",
    "\n",
    "### (2) 기능 엔지니어링 및 데이터 정리\n",
    "- 결측치 처리 : 'Id' column 를 모델 훈련 과정에서 삭제(drop)\n",
    "- train/test split : 데이터 분할\n",
    "\n",
    "### (3) 예측 모델링\n",
    "- 여러 트리 기반 모델 중 랜덤포레스트 활용\n",
    "- RandomForest : 회귀 모델 구축, RMSE 사용해 모델 성능 평가, 결과 시각화\n",
    "\n",
    "### (4) 후처리\n",
    "- 테스트 데이터 예측 : 학습 모델 사용해 테스트 데이터에 대한 예측 수행\n",
    "- Id별 SalePrice를 df로 나타냄.\n",
    "- 예측 결과를 'submission.csv' 파일로 저장해 Kaggle에 제출"
   ]
  },
  {
   "cell_type": "markdown",
   "id": "bbc41f4f-d01a-4b41-903b-d6a8d5f4c0f3",
   "metadata": {},
   "source": [
    "# [차별 점 및 배울 점]\n",
    "\n",
    "- 자동 전처리 : TFDF(TensorFlow Decision Forests)는 범주형 변수의 자동 인코딩 및 결측치 처리를 지원해 전처리 과정 간소화\n",
    "- 모델 해석 용이 : 결정 트리 기반 모델로, 변수 중요도 및 결정 경로 등을 통해 모델 예측 과정 해석하기 용이함.\n",
    "- TensorFlow와의 통합 : TFDF의 장점을 활용해 전통적인 머신러닝 모델과 딥러닝 모델의 장점을 결합한 접근 방식임."
   ]
  }
 ],
 "metadata": {
  "kernelspec": {
   "display_name": "Python 3 (ipykernel)",
   "language": "python",
   "name": "python3"
  },
  "language_info": {
   "codemirror_mode": {
    "name": "ipython",
    "version": 3
   },
   "file_extension": ".py",
   "mimetype": "text/x-python",
   "name": "python",
   "nbconvert_exporter": "python",
   "pygments_lexer": "ipython3",
   "version": "3.12.2"
  }
 },
 "nbformat": 4,
 "nbformat_minor": 5
}
