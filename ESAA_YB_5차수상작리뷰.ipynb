{
 "cells": [
  {
   "cell_type": "markdown",
   "id": "b4a1e875-7f4b-4014-b4f2-3ffc6d72aa03",
   "metadata": {},
   "source": [
    "# [주제 및 데이터]"
   ]
  },
  {
   "cell_type": "markdown",
   "id": "a01f49f3-29af-474a-b845-e09d047f88a2",
   "metadata": {},
   "source": [
    "### 주제 : 은행 고객의 이탈 여부를 에측하는 AI 알고리즘 개발\n",
    "\n",
    "### 데이터\n",
    "- train.csv : 은행 고객 관련 정보, ID(샘플 별 고유 ID), Exited(이탈 여부-예측 목표)\n",
    "- test.csv : 은행 고객 관련 정보, ID(샘플 별 고유 ID)\n",
    "- sample_submission.csv : ID(샘플 별 고유 ID), Exited(test.csv에서 제공된 고객의 이탈여부를 예측하여 기입)\n",
    "\n",
    "### 목적 \n",
    "- 은행 고객과 관련된 데이터 분석을 통해 은행 고객의 이탈여부를 예측하는 AI 모델을 개발"
   ]
  },
  {
   "cell_type": "markdown",
   "id": "8cd4049c-8ed4-49e5-8942-36470591b3cc",
   "metadata": {},
   "source": [
    "# [코드 리뷰]\n",
    "\n",
    "### (1) EDA\n",
    "- 기본 정보 확인 : info(), describe()\n",
    "- 결측치 확인 : 없음\n",
    "- 타겟 분포 확인 : countplot\n",
    "- numeric_featres : 수치형 변수만 선택 -> 상관관계 분석 -> 히트맵 시각화\n",
    "- 국가별 이탈 여부 확인 : countplot\n",
    "- 나이별 이탈 여부 확인 : boxplot\n",
    "- 계좌잔고와 이탈 여부 확인 : boxplot\n",
    "- 제품 수와 이탈 여부 확인 : countplot\n",
    "\n",
    "### (2) 기능 엔지니어링 및 데이터 정리\n",
    "- df 변형 : 60대 이상 고객 중 이탈하지 않은 고객 필터링\n",
    "- 추가 분석 : 성별 분포 등 범주형 변수 분석\n",
    "- ID 제거\n",
    "- 범주형 변수 인코딩 : Labelencoder('Sex', 'Country')\n",
    "- X, y 변수 split : 타겟 변수 'Exited' 분리\n",
    "- 수치형 변수 스케일링 : StandardScaler()\n",
    "- SMOTE로 클래스 불균형 조절\n",
    "\n",
    "  \n",
    "### (3) 모델 훈련 및 생성\n",
    "- 모델 설정 및 하이퍼파라미터 튜닝 : xgb, lgbm, catboost\n",
    "- 각각의 모델 최적화 파라미터 확인\n",
    "- Stacking 메타 모델 설정 : Logistic Regression\n",
    "- 교차 검증 및 모델 학습 : StratifiedKFold, acc, f1_score 확인\n",
    "\n",
    "### (4) 후처리\n",
    "- 최종 예측 및 제출 파일 생성 : model.predict, 'submission.csv' 파일 생성 후 제출"
   ]
  },
  {
   "cell_type": "markdown",
   "id": "bbc41f4f-d01a-4b41-903b-d6a8d5f4c0f3",
   "metadata": {},
   "source": [
    "# [차별 점 및 배울 점]\n",
    "\n",
    "### [차별 점]\n",
    "- 타겟 변수의 분포를 먼저 확인 \n",
    "- 다양한 변수에 대해 EDA를 꼼꼼히 진행\n",
    "- 나이별 고객 필터링\n",
    "- SMOTE를 이용해 클래스 불균형 조절\n",
    "\n",
    "### [배울 점]\n",
    "- 다양한 EDA를 통해 모델 생성을 고려한 점\n",
    "- 각 모델별 하이퍼파라미터를 튜닝의 최적의 모델 학습을 진행하려 한 점\n",
    "- stacking 메타 모델을 설정하여 교차 검증을 통해 모델 학습을 한 점"
   ]
  }
 ],
 "metadata": {
  "kernelspec": {
   "display_name": "Python 3 (ipykernel)",
   "language": "python",
   "name": "python3"
  },
  "language_info": {
   "codemirror_mode": {
    "name": "ipython",
    "version": 3
   },
   "file_extension": ".py",
   "mimetype": "text/x-python",
   "name": "python",
   "nbconvert_exporter": "python",
   "pygments_lexer": "ipython3",
   "version": "3.12.2"
  }
 },
 "nbformat": 4,
 "nbformat_minor": 5
}
