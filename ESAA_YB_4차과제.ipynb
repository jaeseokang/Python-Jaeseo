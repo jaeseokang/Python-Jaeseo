{
  "nbformat": 4,
  "nbformat_minor": 0,
  "metadata": {
    "colab": {
      "provenance": [],
      "authorship_tag": "ABX9TyNCu45U8JKJhjk/lGGxVE15",
      "include_colab_link": true
    },
    "kernelspec": {
      "name": "python3",
      "display_name": "Python 3"
    },
    "language_info": {
      "name": "python"
    }
  },
  "cells": [
    {
      "cell_type": "markdown",
      "metadata": {
        "id": "view-in-github",
        "colab_type": "text"
      },
      "source": [
        "<a href=\"https://colab.research.google.com/github/jaeseokang/Python-Jaeseo/blob/main/ESAA_YB_4%EC%B0%A8%EA%B3%BC%EC%A0%9C.ipynb\" target=\"_parent\"><img src=\"https://colab.research.google.com/assets/colab-badge.svg\" alt=\"Open In Colab\"/></a>"
      ]
    },
    {
      "cell_type": "markdown",
      "source": [
        "# 시본(Seabron)\n",
        "\n",
        "### X축과 Y축으로 구성된 이차원 축에서 데이터를 시각화"
      ],
      "metadata": {
        "id": "Bdd67lrgrsSf"
      }
    },
    {
      "cell_type": "markdown",
      "source": [
        "### 정보의 종류에 따른 시각화 차트 유형\n",
        "1. 히스토그램 - 연속형 값에 대한 도수 분포를 나타냄. X축 값은 도수 분포를 원하는 연속형 값 구간, Y축 값은 해당 구간의 도수 분포를 나타냄.\n",
        "2. 바 플롯 - 특정 칼럼의 이산 값에 따른 다른 칼럼의 연속형 값(평균, 총합동)을 막대 그래프 형태로 시각화, (수직 막대 그래프 적용 시) X축 값은 특정 칼럼의 이산 값, Y축 값은 다른 칼럼의 연속형 값으로 나타냄.\n",
        "3. 박스 플롯 - 연속형 값의 사분위 IQR와 최대, 최소, 이상치 값을 시각화, 보통 단일 칼럼의 연속형 값에 적용하지만, 이 연속형 값의 사분위를 다른 칼럼의 이산값별로 시각화할 때 사용/\n",
        "4. 바이올린 플롯 - 히스토그램의 연속 확률 분포 곡선과 박스 플롯을 바이올린 형태로 함께 시각화, 보통 단일 칼럼의 연속형 값에 적용하지만, 이 연속형 값의 분포를 다른 칼럼의 이산값별로 시각화할 대 유용.\n",
        "5. 스캐터 플롯 - 산점도로 불리며, 2개의 연속형 값들을 X, Y 좌표상의 점으로 시각화하여 해당값들이 어떻게 관계되어 있는지 나타냄.\n",
        "6. 상관 히트맵 - 다수 연속형 칼럼들에 대해 상호 간의 상관 관계 시각화"
      ],
      "metadata": {
        "id": "4rbz5tYhsOQn"
      }
    },
    {
      "cell_type": "code",
      "execution_count": null,
      "metadata": {
        "colab": {
          "base_uri": "https://localhost:8080/",
          "height": 35
        },
        "id": "NICbCXkcrWSf",
        "outputId": "e8509641-0493-4fbb-c7df-6552f31dafde"
      },
      "outputs": [
        {
          "output_type": "display_data",
          "data": {
            "text/plain": [
              "<IPython.core.display.HTML object>"
            ],
            "text/html": [
              "\n",
              "     <input type=\"file\" id=\"files-c2104c34-5749-4a92-92da-692454b44182\" name=\"files[]\" multiple disabled\n",
              "        style=\"border:none\" />\n",
              "     <output id=\"result-c2104c34-5749-4a92-92da-692454b44182\">\n",
              "      Upload widget is only available when the cell has been executed in the\n",
              "      current browser session. Please rerun this cell to enable.\n",
              "      </output>\n",
              "      <script>// Copyright 2017 Google LLC\n",
              "//\n",
              "// Licensed under the Apache License, Version 2.0 (the \"License\");\n",
              "// you may not use this file except in compliance with the License.\n",
              "// You may obtain a copy of the License at\n",
              "//\n",
              "//      http://www.apache.org/licenses/LICENSE-2.0\n",
              "//\n",
              "// Unless required by applicable law or agreed to in writing, software\n",
              "// distributed under the License is distributed on an \"AS IS\" BASIS,\n",
              "// WITHOUT WARRANTIES OR CONDITIONS OF ANY KIND, either express or implied.\n",
              "// See the License for the specific language governing permissions and\n",
              "// limitations under the License.\n",
              "\n",
              "/**\n",
              " * @fileoverview Helpers for google.colab Python module.\n",
              " */\n",
              "(function(scope) {\n",
              "function span(text, styleAttributes = {}) {\n",
              "  const element = document.createElement('span');\n",
              "  element.textContent = text;\n",
              "  for (const key of Object.keys(styleAttributes)) {\n",
              "    element.style[key] = styleAttributes[key];\n",
              "  }\n",
              "  return element;\n",
              "}\n",
              "\n",
              "// Max number of bytes which will be uploaded at a time.\n",
              "const MAX_PAYLOAD_SIZE = 100 * 1024;\n",
              "\n",
              "function _uploadFiles(inputId, outputId) {\n",
              "  const steps = uploadFilesStep(inputId, outputId);\n",
              "  const outputElement = document.getElementById(outputId);\n",
              "  // Cache steps on the outputElement to make it available for the next call\n",
              "  // to uploadFilesContinue from Python.\n",
              "  outputElement.steps = steps;\n",
              "\n",
              "  return _uploadFilesContinue(outputId);\n",
              "}\n",
              "\n",
              "// This is roughly an async generator (not supported in the browser yet),\n",
              "// where there are multiple asynchronous steps and the Python side is going\n",
              "// to poll for completion of each step.\n",
              "// This uses a Promise to block the python side on completion of each step,\n",
              "// then passes the result of the previous step as the input to the next step.\n",
              "function _uploadFilesContinue(outputId) {\n",
              "  const outputElement = document.getElementById(outputId);\n",
              "  const steps = outputElement.steps;\n",
              "\n",
              "  const next = steps.next(outputElement.lastPromiseValue);\n",
              "  return Promise.resolve(next.value.promise).then((value) => {\n",
              "    // Cache the last promise value to make it available to the next\n",
              "    // step of the generator.\n",
              "    outputElement.lastPromiseValue = value;\n",
              "    return next.value.response;\n",
              "  });\n",
              "}\n",
              "\n",
              "/**\n",
              " * Generator function which is called between each async step of the upload\n",
              " * process.\n",
              " * @param {string} inputId Element ID of the input file picker element.\n",
              " * @param {string} outputId Element ID of the output display.\n",
              " * @return {!Iterable<!Object>} Iterable of next steps.\n",
              " */\n",
              "function* uploadFilesStep(inputId, outputId) {\n",
              "  const inputElement = document.getElementById(inputId);\n",
              "  inputElement.disabled = false;\n",
              "\n",
              "  const outputElement = document.getElementById(outputId);\n",
              "  outputElement.innerHTML = '';\n",
              "\n",
              "  const pickedPromise = new Promise((resolve) => {\n",
              "    inputElement.addEventListener('change', (e) => {\n",
              "      resolve(e.target.files);\n",
              "    });\n",
              "  });\n",
              "\n",
              "  const cancel = document.createElement('button');\n",
              "  inputElement.parentElement.appendChild(cancel);\n",
              "  cancel.textContent = 'Cancel upload';\n",
              "  const cancelPromise = new Promise((resolve) => {\n",
              "    cancel.onclick = () => {\n",
              "      resolve(null);\n",
              "    };\n",
              "  });\n",
              "\n",
              "  // Wait for the user to pick the files.\n",
              "  const files = yield {\n",
              "    promise: Promise.race([pickedPromise, cancelPromise]),\n",
              "    response: {\n",
              "      action: 'starting',\n",
              "    }\n",
              "  };\n",
              "\n",
              "  cancel.remove();\n",
              "\n",
              "  // Disable the input element since further picks are not allowed.\n",
              "  inputElement.disabled = true;\n",
              "\n",
              "  if (!files) {\n",
              "    return {\n",
              "      response: {\n",
              "        action: 'complete',\n",
              "      }\n",
              "    };\n",
              "  }\n",
              "\n",
              "  for (const file of files) {\n",
              "    const li = document.createElement('li');\n",
              "    li.append(span(file.name, {fontWeight: 'bold'}));\n",
              "    li.append(span(\n",
              "        `(${file.type || 'n/a'}) - ${file.size} bytes, ` +\n",
              "        `last modified: ${\n",
              "            file.lastModifiedDate ? file.lastModifiedDate.toLocaleDateString() :\n",
              "                                    'n/a'} - `));\n",
              "    const percent = span('0% done');\n",
              "    li.appendChild(percent);\n",
              "\n",
              "    outputElement.appendChild(li);\n",
              "\n",
              "    const fileDataPromise = new Promise((resolve) => {\n",
              "      const reader = new FileReader();\n",
              "      reader.onload = (e) => {\n",
              "        resolve(e.target.result);\n",
              "      };\n",
              "      reader.readAsArrayBuffer(file);\n",
              "    });\n",
              "    // Wait for the data to be ready.\n",
              "    let fileData = yield {\n",
              "      promise: fileDataPromise,\n",
              "      response: {\n",
              "        action: 'continue',\n",
              "      }\n",
              "    };\n",
              "\n",
              "    // Use a chunked sending to avoid message size limits. See b/62115660.\n",
              "    let position = 0;\n",
              "    do {\n",
              "      const length = Math.min(fileData.byteLength - position, MAX_PAYLOAD_SIZE);\n",
              "      const chunk = new Uint8Array(fileData, position, length);\n",
              "      position += length;\n",
              "\n",
              "      const base64 = btoa(String.fromCharCode.apply(null, chunk));\n",
              "      yield {\n",
              "        response: {\n",
              "          action: 'append',\n",
              "          file: file.name,\n",
              "          data: base64,\n",
              "        },\n",
              "      };\n",
              "\n",
              "      let percentDone = fileData.byteLength === 0 ?\n",
              "          100 :\n",
              "          Math.round((position / fileData.byteLength) * 100);\n",
              "      percent.textContent = `${percentDone}% done`;\n",
              "\n",
              "    } while (position < fileData.byteLength);\n",
              "  }\n",
              "\n",
              "  // All done.\n",
              "  yield {\n",
              "    response: {\n",
              "      action: 'complete',\n",
              "    }\n",
              "  };\n",
              "}\n",
              "\n",
              "scope.google = scope.google || {};\n",
              "scope.google.colab = scope.google.colab || {};\n",
              "scope.google.colab._files = {\n",
              "  _uploadFiles,\n",
              "  _uploadFilesContinue,\n",
              "};\n",
              "})(self);\n",
              "</script> "
            ]
          },
          "metadata": {}
        }
      ],
      "source": [
        "from google.colab import files\n",
        "uploaded = files.upload()  # 파일 업로드 창이 뜸"
      ]
    },
    {
      "cell_type": "code",
      "source": [
        "# 히스토그램 - 데이터의 통계적인 분석을 위해 많이 활용\n",
        "\n",
        "import pandas as pd\n",
        "titanic_df = pd.read_csv('titanic_train.csv')\n",
        "titanic_df.head(5)"
      ],
      "metadata": {
        "id": "pk-YDHjjrvR5"
      },
      "execution_count": null,
      "outputs": []
    },
    {
      "cell_type": "code",
      "source": [
        "import matplotlib.pyplot as plt\n",
        "import seaborn as sns\n",
        "\n",
        "# 시본에서도 plt.figure()의 figsize 인자를 입력해 전체 Figure 크기 조절\n",
        "plt.figure(figsize=(8,3))\n",
        "\n",
        "# DataFrame의 칼럼명을 자동으로 인식해서 xlabel 값을 할당, ylabel 값은 Count로 설정.\n",
        "sns.histplot(titanic_df['Age'], bins=20) # bins는 구간의 개수\n",
        "plt.show()"
      ],
      "metadata": {
        "id": "88Vuexxltl1L"
      },
      "execution_count": null,
      "outputs": []
    },
    {
      "cell_type": "markdown",
      "source": [
        "시본에서 DataFrame을 입력값으로 받으면 자동으로 칼럼명 해석 -> X축명 또는 Y축명에 할당"
      ],
      "metadata": {
        "id": "6onYqEnUwQ1h"
      }
    },
    {
      "cell_type": "code",
      "source": [
        "# bins=30에 따라 30개의 구간별 막대 그래프 도수 그려짐\n",
        "# kde=True로 설정해 연속 확률분포 곡선까지 시각화\n",
        "\n",
        "sns.histplot(x='Age', data=titanic_df, bins=30, kde=True)\n",
        "plt.show()"
      ],
      "metadata": {
        "id": "Q7S2hbu0wE_b"
      },
      "execution_count": null,
      "outputs": []
    },
    {
      "cell_type": "code",
      "source": [
        "# displot() 함수 이용해 Age 칼럼값의 히스토그램을 시각화\n",
        "\n",
        "import seaborn as sns\n",
        "\n",
        "# seaborn의 figure레벨 그래프는 plt.figure()로 Figure 크기 조절 불가능\n",
        "plt.figure(figsize=(3,4)) # 해당 함수에서 인자로 Figure 크기 조절해야 함\n",
        "sns.displot(x='Age', data=titanic_df, kde=True)\n",
        "plt.show()"
      ],
      "metadata": {
        "id": "rdaV2UsJwssD"
      },
      "execution_count": null,
      "outputs": []
    },
    {
      "cell_type": "code",
      "source": [
        "# 크기 조절 인자로 height(세로), aspect(가로와 세로의 배율)가 주어짐.\n",
        "# 별도의 가로 크기 설정하는 인자는 제공 x, height x aspect를 적용해 자동으로 가로 크기 결정\n",
        "\n",
        "import seaborn as sns\n",
        "\n",
        "sns.displot(titanic_df['Age'], kde=True, height=4, aspect=2)\n",
        "plt.show()"
      ],
      "metadata": {
        "id": "jtDNDudLxO_G"
      },
      "execution_count": null,
      "outputs": []
    },
    {
      "cell_type": "markdown",
      "source": [
        "카운트 플롯 - 이산형 값의 건수를 막대 그래프 형태로 시각화"
      ],
      "metadata": {
        "id": "1au5B-wUt1w1"
      }
    },
    {
      "cell_type": "code",
      "source": [
        "sns.countplot(x='Pclass', data=titanic_df)\n",
        "plt.show()"
      ],
      "metadata": {
        "id": "9fygeAUxx3ys"
      },
      "execution_count": null,
      "outputs": []
    },
    {
      "cell_type": "code",
      "source": [
        "# 바 플롯(barplot) - 간단한 시각화이지만, 2차원 축 기반 시각화에 활용\n",
        "# 자동으로 xlabel, ylabel을 barplot()의 x 인자값인 Pclass, y 인자값이 Age로 설정\n",
        "\n",
        "sns.barplot(x='Pclass', y='Age', data=titanic_df)\n",
        "plt.show()"
      ],
      "metadata": {
        "id": "f49xoTJGySpy"
      },
      "execution_count": null,
      "outputs": []
    },
    {
      "cell_type": "code",
      "source": [
        "sns.barplot(x='Pclass', y='Survived', data=titanic_df)\n",
        "plt.show()"
      ],
      "metadata": {
        "id": "DxrRa42yyzOD"
      },
      "execution_count": null,
      "outputs": []
    },
    {
      "cell_type": "code",
      "source": [
        "# y축을 문자값으로 설정하면 자동으로 수평 막대 그래프 변환\n",
        "sns.barplot(x='Pclass', y='Sex', data=titanic_df)\n",
        "plt.show()"
      ],
      "metadata": {
        "id": "YvE42ibQzHJf"
      },
      "execution_count": null,
      "outputs": []
    },
    {
      "cell_type": "code",
      "source": [
        "# x 인자를 문자열인 Name, y 인자로 문자열인 Sex를 입력하므로 barplot을 오류 발생\n",
        "sns.barplot(x='Name', y='Sex', data=titanic_df)"
      ],
      "metadata": {
        "id": "jtHteMH4zjxi"
      },
      "execution_count": null,
      "outputs": []
    },
    {
      "cell_type": "code",
      "source": [
        "# estimator=sum 을 적용해 평균이 아니라 총합으로 표현\n",
        "sns.barplot(x='Pclass', y='Survived', data=titanic_df, ci=None, estimator=sum)\n",
        "plt.show()"
      ],
      "metadata": {
        "id": "g0KXdOmmzzUt"
      },
      "execution_count": null,
      "outputs": []
    },
    {
      "cell_type": "markdown",
      "source": [
        "barplot() 함수의 hue 인자를 사용해 시각화 정보를 추가적으로 세분화"
      ],
      "metadata": {
        "id": "mpGo35v10Mdc"
      }
    },
    {
      "cell_type": "code",
      "source": [
        "# 아래는 Pclass가 X축값이며 hue파라미터로 Sex를 설정\n",
        "# 개별 Pclass 값별로 Sex에 따른 Age 평균 값을 구함.\n",
        "\n",
        "sns.barplot(x='Pclass', y='Age', hue='Sex', data=titanic_df)\n",
        "plt.show()"
      ],
      "metadata": {
        "id": "zLzsmyb40I_Z"
      },
      "execution_count": null,
      "outputs": []
    },
    {
      "cell_type": "code",
      "source": [
        "# 개별 Pclass 값별로 Sex에 따른 Survived 평균값을 구함.\n",
        "# Pclass가 X축 값이며 Survived가 Y축 값, hue 파라미터로 Sex를 설정\n",
        "\n",
        "sns.barplot(x='Pclass', y='Survived', hue='Sex', data=titanic_df)\n",
        "plt.show()"
      ],
      "metadata": {
        "id": "fKXPPxnS0gWP"
      },
      "execution_count": null,
      "outputs": []
    },
    {
      "cell_type": "markdown",
      "source": [
        "박스 플롯"
      ],
      "metadata": {
        "id": "cqiDXoict4wO"
      }
    },
    {
      "cell_type": "code",
      "source": [
        "sns. boxplot(y='Age', data=titanic_df)\n",
        "plt.show()"
      ],
      "metadata": {
        "id": "fX1aqZN5038k"
      },
      "execution_count": null,
      "outputs": []
    },
    {
      "cell_type": "code",
      "source": [
        "sns. boxplot(x='Pclass', y='Age', data=titanic_df)\n",
        "plt.show()"
      ],
      "metadata": {
        "id": "_MT2WxZo1Auw"
      },
      "execution_count": null,
      "outputs": []
    },
    {
      "cell_type": "code",
      "source": [
        "sns. boxplot(x='Pclass', y='Age', hue='Sex', data=titanic_df)\n",
        "plt.show()"
      ],
      "metadata": {
        "id": "1MjD1yrF1IDp"
      },
      "execution_count": null,
      "outputs": []
    },
    {
      "cell_type": "markdown",
      "source": [
        "바이올린 플롯"
      ],
      "metadata": {
        "id": "ibmDBBVgt8mC"
      }
    },
    {
      "cell_type": "code",
      "source": [
        "# Age 칼럼에 대한 수직 바이올린 플롯 시각화\n",
        "\n",
        "sns.violinplot(y='Age', data=titanic_df)\n",
        "plt.show()"
      ],
      "metadata": {
        "id": "tVDO_qHA1OZp"
      },
      "execution_count": null,
      "outputs": []
    },
    {
      "cell_type": "code",
      "source": [
        "# x축값인 Pclass 깔별로 y축 값인 Age의 바이올린 플롯을 그림\n",
        "# Pclass 값별 Age 데이터 분포를 비교하여 볼 수 있음.\n",
        "\n",
        "sns.violinplot(x='Pclass', y='Age', data=titanic_df)\n",
        "plt.show()"
      ],
      "metadata": {
        "id": "McllRJLp1XbX"
      },
      "execution_count": null,
      "outputs": []
    },
    {
      "cell_type": "code",
      "source": [
        "# violinplot() 함수 역시 hue를 이용해 한단계 더 추가적인 세부 정보 제공\n",
        "\n",
        "# x축값인 개별 Pclass 내에서 Sex값별로 y축 값인 Age 바이올린 플롯을 그림\n",
        "sns.violinplot(x='Pclass', y='Age', hue='Sex', data=titanic_df)\n",
        "plt.show()"
      ],
      "metadata": {
        "id": "8qQLyD_32lsb"
      },
      "execution_count": null,
      "outputs": []
    },
    {
      "cell_type": "code",
      "source": [
        "# subplots를 이용해 시본의 다양한 그래프 시각화\n",
        "\n",
        "cat_columns = ['Survived', 'Pclass', 'Sex']\n",
        "\n",
        "# nrows=1이고 ncols는 칼럼 개수만틈인 subplots을 설정.\n",
        "fig, axs = plt.subplots(nrows=1, ncols=len(cat_columns), figsize=(14,4))\n",
        "\n",
        "for index, column in enumerate(cat_columns):\n",
        "  print('index', index)\n",
        "  # seaborn의 Axes 레벨 function들은 ax 인자로 subplots의 어느 Axes에 위치할지 설정.\n",
        "  sns.countplot(x=column, data=titanic_df, ax=axs[index])"
      ],
      "metadata": {
        "id": "rmczVZq_29W_"
      },
      "execution_count": null,
      "outputs": []
    },
    {
      "cell_type": "code",
      "source": [
        "cat_columns = ['Pclass', 'Sex', 'Embarked']\n",
        "\n",
        "# nrows=1 이고 ncols는 칼럼 개수만큼인 subplots 설정\n",
        "fig, axs = plt.subplots(nrows=1, ncols=len(cat_columns), figsize=(14,4))\n",
        "\n",
        "for index, column in enumerate(cat_columns):\n",
        "  # seaborn의 Axes 레벨 function들은 ax 인자로 subplots의 어느 Axes에 위치할지 설정\n",
        "  sns.barplot(x=column, y='Survived', data=titanic_df, ax=axs[index])\n",
        ""
      ],
      "metadata": {
        "id": "8yGCbAA43q7p"
      },
      "execution_count": null,
      "outputs": []
    },
    {
      "cell_type": "code",
      "source": [
        "cont_columns = ['Age', 'Fare']\n",
        "\n",
        "# 리스트로 할당된 칼럼들의 개수만큼 루프 수행\n",
        "for column in cont_columns:\n",
        "  # 왼쪽에는 바이올린 플롯, 오른쪽에는 히스토그램을 시각화, nrows=1, ncols=2인 서브플롯 생성\n",
        "  fig, axs = plt.subplots(nrows=1, ncols=2, figsize=(10,4))\n",
        "  # 왼쪽 Axes 객체에는 Survived값 0, 1별 개별 칼럼의 바이올린 플롯 시각화\n",
        "  sns.violinplot(x='Survived', y=column, data=titanic_df, ax=axs[0])\n",
        "  # 오른쪽 Axes 객체에는 Survived 값에 따른 개별 칼럼의 히스토그램 시각화\n",
        "  sns.histplot(x=column, data=titanic_df, kde=True, hue='Survived', ax=axs[1])"
      ],
      "metadata": {
        "id": "ghys7CXKbtwC"
      },
      "execution_count": null,
      "outputs": []
    },
    {
      "cell_type": "markdown",
      "source": [
        "산점도, 스캐터 플롯(Scatter Plot)"
      ],
      "metadata": {
        "id": "65PvVveRquAy"
      }
    },
    {
      "cell_type": "code",
      "source": [
        "# X축값으로 Age, Y축값으로 Fare를 설정\n",
        "sns.scatterplot(x='Age', y='Fare', data=titanic_df)\n",
        "plt.show()"
      ],
      "metadata": {
        "id": "vfxPv1-6q2BN"
      },
      "execution_count": null,
      "outputs": []
    },
    {
      "cell_type": "code",
      "source": [
        "sns.scatterplot(x='Age', y='Fare', hue='Survived', data=titanic_df)\n",
        "plt.show()"
      ],
      "metadata": {
        "id": "fTxOL_FDq_db"
      },
      "execution_count": null,
      "outputs": []
    },
    {
      "cell_type": "code",
      "source": [
        "# hue 외에도 한 단계 더 세분화된 추가 정보 제공\n",
        "\n",
        "sns.scatterplot(x='Age', y='Fare', hue='Survived', style='Sex', data=titanic_df)\n",
        "plt.show()"
      ],
      "metadata": {
        "id": "RJPxnz45rHoZ"
      },
      "execution_count": null,
      "outputs": []
    },
    {
      "cell_type": "markdown",
      "source": [
        "상관 히트맵(Correlation Heatmap) - 다수의 속성들 간의 상관계수를 히트맵 형태로 나타냄"
      ],
      "metadata": {
        "id": "WNmhhALCrhKg"
      }
    },
    {
      "cell_type": "code",
      "source": [
        "corr_df = titanic_df.corr()\n",
        "corr_df"
      ],
      "metadata": {
        "id": "U9ddzWXkrqkq"
      },
      "execution_count": null,
      "outputs": []
    },
    {
      "cell_type": "code",
      "source": [
        "# 상관계수를 DataFrame으로 구하고 이를 heatmap()의 인자로 입력\n",
        "cprr = titanic_df.corr()\n",
        "sns.heatmap(corr)\n",
        "plt.show()"
      ],
      "metadata": {
        "id": "oduRzucasUe9"
      },
      "execution_count": null,
      "outputs": []
    },
    {
      "cell_type": "code",
      "source": [
        "# annot 인자는 True/False로 설정가능, True일 경우 숫자로 된 상관계수값 표시\n",
        "# annot 인자 default = False\n",
        "\n",
        "sns.heatmap(corr, annot=True, fmf='.1f', cbar=True)\n",
        "plt.show()"
      ],
      "metadata": {
        "id": "eVn5hzn8sjHj"
      },
      "execution_count": null,
      "outputs": []
    }
  ]
}