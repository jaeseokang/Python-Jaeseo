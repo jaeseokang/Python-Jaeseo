{
 "cells": [
  {
   "cell_type": "markdown",
   "id": "b4a1e875-7f4b-4014-b4f2-3ffc6d72aa03",
   "metadata": {},
   "source": [
    "# [주제 및 데이터]"
   ]
  },
  {
   "cell_type": "markdown",
   "id": "a01f49f3-29af-474a-b845-e09d047f88a2",
   "metadata": {},
   "source": [
    "### 주제 : Calorie Expenditure 예측\n",
    "\n",
    "칼로리 소모 예측 데이터셋으로 훈련된 딥러닝 모델에서 생성\n",
    "\n",
    "### 데이터\n",
    "- train.csv : 테스트 세트, 'Calories'는 연속형 변수\n",
    "- test.csv : 훈련 세트, 각각의 행에서 'Calories'를 예측함이 목표\n",
    "- sample_submission.csv : correct format으로 존재\n",
    "- 주요 input data에는 다음과 같은 feature가 포함됨(Gender, Age, Height, Weight, Duration, Heart Rate, Body temperature, Calories)\n",
    "\n",
    "### 목적 \n",
    "- 개인의 신체적 특성과 활동 정보를 바탕으로 칼로리 소모량 예측\n",
    "- 원본 데이터 사용 여부에 따른 성능 변화도 탐색 가능"
   ]
  },
  {
   "cell_type": "markdown",
   "id": "8cd4049c-8ed4-49e5-8942-36470591b3cc",
   "metadata": {},
   "source": [
    "# [코드 리뷰]\n",
    "\n",
    "### (1) EDA\n",
    "- data 불러오기 : kaggle 링크를 통해 train.csv와 test.cvs, sample_sub.csv를 불러옴.\n",
    "- target인 Calories 분포(describe) 확인 \n",
    "\n",
    "### (2) 기능 엔지니어링 및 데이터 정리\n",
    "- 결측치 처리 : 'Id' column 를 모델 훈련 과정에서 삭제(drop)\n",
    "- train/test split : 데이터 분할\n",
    "- score list 생성\n",
    "- rmse 정의 -> 모델별 rmse 비교\n",
    "- lineplot 시각화\n",
    "\n",
    "### (3) 예측 모델링\n",
    "- 다양한 모델을 앙상블로 조합하고, **Hill Climbing Ensemble** 방식으로 최적의 조합을 찾는 방식 사용\n",
    "- 8개의 모델이 앙상블에 사용 : HistGB, XGBoost, LightGBM(gbdt), LightGBM(goss), KerasANN, Yggdrasil\n",
    "\n",
    "### (4) 후처리\n",
    "- climber.history를 line plot으로 시각화"
   ]
  },
  {
   "cell_type": "markdown",
   "id": "bbc41f4f-d01a-4b41-903b-d6a8d5f4c0f3",
   "metadata": {},
   "source": [
    "# [차별 점 및 배울 점]\n",
    "\n",
    "### [차별 점]\n",
    "- 8가지 다양한 부스팅 기반 모델 + ANN 조합\n",
    "- 성능 개선폭을 기준으로 +인 모델만으로 앙상블 구성(Hill Climbing)\n",
    "- 단일 모델보다 약간의 개선을 목표로 함\n",
    "\n",
    "### [배울 점]\n",
    "- 모델 선정에 앞서 rmse를 비교해 최적의 조합을 찾는 방식이 인상깊었음"
   ]
  }
 ],
 "metadata": {
  "kernelspec": {
   "display_name": "Python 3 (ipykernel)",
   "language": "python",
   "name": "python3"
  },
  "language_info": {
   "codemirror_mode": {
    "name": "ipython",
    "version": 3
   },
   "file_extension": ".py",
   "mimetype": "text/x-python",
   "name": "python",
   "nbconvert_exporter": "python",
   "pygments_lexer": "ipython3",
   "version": "3.12.2"
  }
 },
 "nbformat": 4,
 "nbformat_minor": 5
}
